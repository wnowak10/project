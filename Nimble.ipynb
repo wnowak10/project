{
 "cells": [
  {
   "cell_type": "markdown",
   "metadata": {},
   "source": [
    "# Data science task - Will Nowak"
   ]
  },
  {
   "cell_type": "markdown",
   "metadata": {},
   "source": [
    "In this notebook, I will use teacher characteristic data and teacher effectiveness data as evidence to answer the following questions:\n",
    "\n",
    "1. What applicant information best predicts effectiveness?\n",
    "    1. What did you choose as your outcome variable? Why?\n",
    "2. What (if any) pieces of data do you wish was collected? \n",
    "    1. Is there a way to use existing data to approximate the effects of this data?\n",
    "3. What (if any) challenges existed with using and interpreting information from this data set? \n",
    "    1. How did you resolve these challenges?\n",
    "4. What recommendations would you give to a school district based on these results?\n",
    "\n"
   ]
  },
  {
   "cell_type": "code",
   "execution_count": 625,
   "metadata": {
    "collapsed": true
   },
   "outputs": [],
   "source": [
    "# Imports:\n",
    "import pandas as pd\n",
    "import numpy as np\n",
    "from sklearn.preprocessing import LabelEncoder\n",
    "from sklearn.model_selection import train_test_split\n",
    "import xgboost as xgb"
   ]
  },
  {
   "cell_type": "code",
   "execution_count": 626,
   "metadata": {},
   "outputs": [],
   "source": [
    "import matplotlib.pyplot as plt\n",
    "import seaborn as sns\n",
    "color = sns.color_palette()\n",
    "%matplotlib inline"
   ]
  },
  {
   "cell_type": "code",
   "execution_count": 627,
   "metadata": {
    "collapsed": true
   },
   "outputs": [],
   "source": [
    "np.random.seed(1234)"
   ]
  },
  {
   "cell_type": "markdown",
   "metadata": {},
   "source": [
    "## Exploratory data analysis"
   ]
  },
  {
   "cell_type": "code",
   "execution_count": 628,
   "metadata": {},
   "outputs": [],
   "source": [
    "applicant = pd.read_csv('Data/Data Science Task_Applicant Data.csv')\n",
    "effectiveness = pd.read_csv('Data/Data Science Test_Effectiveness Data.csv')"
   ]
  },
  {
   "cell_type": "markdown",
   "metadata": {
    "variables": {
     "applicant.shape[0]": "4518",
     "applicant.shape[1]": "31"
    }
   },
   "source": [
    "The applicant data contains data on {{applicant.shape[0]}} applicants, with {{applicant.shape[1]}} potential variables describing the candidate and their application. Crucially, applicants without an 'Employee ID' were **not** hired. "
   ]
  },
  {
   "cell_type": "code",
   "execution_count": 629,
   "metadata": {},
   "outputs": [
    {
     "data": {
      "text/html": [
       "<div>\n",
       "<style>\n",
       "    .dataframe thead tr:only-child th {\n",
       "        text-align: right;\n",
       "    }\n",
       "\n",
       "    .dataframe thead th {\n",
       "        text-align: left;\n",
       "    }\n",
       "\n",
       "    .dataframe tbody tr th {\n",
       "        vertical-align: top;\n",
       "    }\n",
       "</style>\n",
       "<table border=\"1\" class=\"dataframe\">\n",
       "  <thead>\n",
       "    <tr style=\"text-align: right;\">\n",
       "      <th></th>\n",
       "      <th>App Date</th>\n",
       "      <th>Gender</th>\n",
       "      <th>Diverse Origin?</th>\n",
       "      <th>UG Degree</th>\n",
       "      <th>UG GPA</th>\n",
       "      <th>Grad Degree</th>\n",
       "      <th>Resume Screen Score</th>\n",
       "      <th>Phone Screen Score</th>\n",
       "      <th>Phone Screen Score - Responsibility</th>\n",
       "      <th>Phone Screen Score - Interpersonal Skills</th>\n",
       "      <th>...</th>\n",
       "      <th>Other Language</th>\n",
       "      <th>FT Teach Experience</th>\n",
       "      <th>Low Income Teach Experience</th>\n",
       "      <th>Youth Experience</th>\n",
       "      <th>Self-Described Phrase</th>\n",
       "      <th>Self-Described Phrase.1</th>\n",
       "      <th>Self-Described Phrase.2</th>\n",
       "      <th>Self-Described Phrase.3</th>\n",
       "      <th>Self-Described Phrase.4</th>\n",
       "      <th>Employee ID</th>\n",
       "    </tr>\n",
       "  </thead>\n",
       "  <tbody>\n",
       "    <tr>\n",
       "      <th>0</th>\n",
       "      <td>12/5/2014</td>\n",
       "      <td>W</td>\n",
       "      <td>Yes</td>\n",
       "      <td>NaN</td>\n",
       "      <td>0.00</td>\n",
       "      <td>NaN</td>\n",
       "      <td>3-RECOMMEND</td>\n",
       "      <td>99-NOT DETERMINED</td>\n",
       "      <td>NaN</td>\n",
       "      <td>NaN</td>\n",
       "      <td>...</td>\n",
       "      <td>NaN</td>\n",
       "      <td>f) 4</td>\n",
       "      <td>f) 4</td>\n",
       "      <td>f) 4</td>\n",
       "      <td>Avid Listener</td>\n",
       "      <td>Confident</td>\n",
       "      <td>Data Driven</td>\n",
       "      <td>Disciplined</td>\n",
       "      <td>Engaged</td>\n",
       "      <td>NaN</td>\n",
       "    </tr>\n",
       "    <tr>\n",
       "      <th>1</th>\n",
       "      <td>12/8/2014</td>\n",
       "      <td>NaN</td>\n",
       "      <td>No</td>\n",
       "      <td>Social Studies</td>\n",
       "      <td>2.85</td>\n",
       "      <td>Education: Other</td>\n",
       "      <td>2-HIGHLY RECOMMEND</td>\n",
       "      <td>2-HIGHLY RECOMMEND</td>\n",
       "      <td>2-HIGHLY RECOMMEND</td>\n",
       "      <td>3-RECOMMEND</td>\n",
       "      <td>...</td>\n",
       "      <td>NaN</td>\n",
       "      <td>c) 1</td>\n",
       "      <td>c) 1</td>\n",
       "      <td>c) 1</td>\n",
       "      <td>Reflective</td>\n",
       "      <td>Community Focused</td>\n",
       "      <td>Dedicated</td>\n",
       "      <td>Data Driven</td>\n",
       "      <td>Disciplined</td>\n",
       "      <td>100263541.0</td>\n",
       "    </tr>\n",
       "  </tbody>\n",
       "</table>\n",
       "<p>2 rows × 31 columns</p>\n",
       "</div>"
      ],
      "text/plain": [
       "    App Date Gender Diverse Origin?       UG Degree  UG GPA       Grad Degree  \\\n",
       "0  12/5/2014      W             Yes             NaN    0.00               NaN   \n",
       "1  12/8/2014    NaN              No  Social Studies    2.85  Education: Other   \n",
       "\n",
       "  Resume Screen Score  Phone Screen Score Phone Screen Score - Responsibility  \\\n",
       "0         3-RECOMMEND   99-NOT DETERMINED                                 NaN   \n",
       "1  2-HIGHLY RECOMMEND  2-HIGHLY RECOMMEND                  2-HIGHLY RECOMMEND   \n",
       "\n",
       "  Phone Screen Score - Interpersonal Skills     ...      Other Language  \\\n",
       "0                                       NaN     ...                 NaN   \n",
       "1                               3-RECOMMEND     ...                 NaN   \n",
       "\n",
       "  FT Teach Experience Low Income Teach Experience Youth Experience  \\\n",
       "0                f) 4                        f) 4             f) 4   \n",
       "1                c) 1                        c) 1             c) 1   \n",
       "\n",
       "  Self-Described Phrase Self-Described Phrase.1 Self-Described Phrase.2  \\\n",
       "0         Avid Listener               Confident             Data Driven   \n",
       "1            Reflective       Community Focused               Dedicated   \n",
       "\n",
       "  Self-Described Phrase.3 Self-Described Phrase.4  Employee ID  \n",
       "0             Disciplined                 Engaged          NaN  \n",
       "1             Data Driven             Disciplined  100263541.0  \n",
       "\n",
       "[2 rows x 31 columns]"
      ]
     },
     "execution_count": 629,
     "metadata": {},
     "output_type": "execute_result"
    }
   ],
   "source": [
    "applicant.head(2)"
   ]
  },
  {
   "cell_type": "markdown",
   "metadata": {
    "variables": {
     "effectiveness.shape[0]": "4954",
     "effectiveness.shape[1]-1": "8"
    }
   },
   "source": [
    "The effecitiveness data contains data on {{effectiveness.shape[0]}} hired teachers, with {{effectiveness.shape[1]-1}} variables describing their effectiveness."
   ]
  },
  {
   "cell_type": "code",
   "execution_count": 630,
   "metadata": {},
   "outputs": [
    {
     "data": {
      "text/html": [
       "<div>\n",
       "<style>\n",
       "    .dataframe thead tr:only-child th {\n",
       "        text-align: right;\n",
       "    }\n",
       "\n",
       "    .dataframe thead th {\n",
       "        text-align: left;\n",
       "    }\n",
       "\n",
       "    .dataframe tbody tr th {\n",
       "        vertical-align: top;\n",
       "    }\n",
       "</style>\n",
       "<table border=\"1\" class=\"dataframe\">\n",
       "  <thead>\n",
       "    <tr style=\"text-align: right;\">\n",
       "      <th></th>\n",
       "      <th>Employee ID</th>\n",
       "      <th>Active Employee</th>\n",
       "      <th>Overall Rating</th>\n",
       "      <th>Rating Points</th>\n",
       "      <th>Student Growth Rating</th>\n",
       "      <th>Student Growth Points</th>\n",
       "      <th>Teaching Obs Score</th>\n",
       "      <th>Exhibits High Expectations Score</th>\n",
       "      <th>Supportiveof Students Score</th>\n",
       "    </tr>\n",
       "  </thead>\n",
       "  <tbody>\n",
       "    <tr>\n",
       "      <th>0</th>\n",
       "      <td>100006086.0</td>\n",
       "      <td>Yes</td>\n",
       "      <td>A</td>\n",
       "      <td>51.42</td>\n",
       "      <td>A</td>\n",
       "      <td>20.9</td>\n",
       "      <td>72%</td>\n",
       "      <td>86%</td>\n",
       "      <td>82%</td>\n",
       "    </tr>\n",
       "    <tr>\n",
       "      <th>1</th>\n",
       "      <td>100019596.0</td>\n",
       "      <td>Yes</td>\n",
       "      <td>E</td>\n",
       "      <td>70.25</td>\n",
       "      <td>E</td>\n",
       "      <td>38.0</td>\n",
       "      <td>79%</td>\n",
       "      <td>88%</td>\n",
       "      <td>83%</td>\n",
       "    </tr>\n",
       "  </tbody>\n",
       "</table>\n",
       "</div>"
      ],
      "text/plain": [
       "   Employee ID Active Employee Overall Rating  Rating Points  \\\n",
       "0  100006086.0             Yes              A          51.42   \n",
       "1  100019596.0             Yes              E          70.25   \n",
       "\n",
       "  Student Growth Rating  Student Growth Points Teaching Obs Score  \\\n",
       "0                     A                   20.9                72%   \n",
       "1                     E                   38.0                79%   \n",
       "\n",
       "  Exhibits High Expectations Score Supportiveof Students Score  \n",
       "0                              86%                         82%  \n",
       "1                              88%                         83%  "
      ]
     },
     "execution_count": 630,
     "metadata": {},
     "output_type": "execute_result"
    }
   ],
   "source": [
    "effectiveness.head(2)"
   ]
  },
  {
   "cell_type": "markdown",
   "metadata": {},
   "source": [
    "We are told that each row represents a teacher, but let's just ensure they are all unique."
   ]
  },
  {
   "cell_type": "code",
   "execution_count": 631,
   "metadata": {},
   "outputs": [
    {
     "name": "stdout",
     "output_type": "stream",
     "text": [
      "Some rows contain data on the same teacher.\n"
     ]
    }
   ],
   "source": [
    "if len(effectiveness['Employee ID'].unique()) == effectiveness.shape[0]:\n",
    "    print('Every row corresponds to a unique teacher.')\n",
    "else:\n",
    "    print('Some rows contain data on the same teacher.')"
   ]
  },
  {
   "cell_type": "code",
   "execution_count": 632,
   "metadata": {},
   "outputs": [
    {
     "name": "stdout",
     "output_type": "stream",
     "text": [
      "There are 5 duplicates.\n"
     ]
    }
   ],
   "source": [
    "print('There are {} duplicates.'.format(effectiveness.shape[0] - len(effectiveness['Employee ID'].unique())))"
   ]
  },
  {
   "cell_type": "markdown",
   "metadata": {
    "variables": {
     "effectiveness.shape[0]": "4954",
     "effectiveness.shape[0] - len(effectiveness['Employee ID'].unique())": "5",
     "len(effectiveness['Employee ID'].unique())": "4949"
    }
   },
   "source": [
    "In fact, we have {{len(effectiveness['Employee ID'].unique())}} unique employee IDs, but the dataframe has {{effectiveness.shape[0]}} rows, so we have {{effectiveness.shape[0] - len(effectiveness['Employee ID'].unique())}} duplicates."
   ]
  },
  {
   "cell_type": "code",
   "execution_count": 633,
   "metadata": {},
   "outputs": [
    {
     "data": {
      "text/html": [
       "<div>\n",
       "<style>\n",
       "    .dataframe thead tr:only-child th {\n",
       "        text-align: right;\n",
       "    }\n",
       "\n",
       "    .dataframe thead th {\n",
       "        text-align: left;\n",
       "    }\n",
       "\n",
       "    .dataframe tbody tr th {\n",
       "        vertical-align: top;\n",
       "    }\n",
       "</style>\n",
       "<table border=\"1\" class=\"dataframe\">\n",
       "  <thead>\n",
       "    <tr style=\"text-align: right;\">\n",
       "      <th></th>\n",
       "      <th>index</th>\n",
       "      <th>Employee ID</th>\n",
       "    </tr>\n",
       "  </thead>\n",
       "  <tbody>\n",
       "    <tr>\n",
       "      <th>0</th>\n",
       "      <td>100000000.0</td>\n",
       "      <td>6</td>\n",
       "    </tr>\n",
       "    <tr>\n",
       "      <th>1</th>\n",
       "      <td>100018043.0</td>\n",
       "      <td>1</td>\n",
       "    </tr>\n",
       "    <tr>\n",
       "      <th>2</th>\n",
       "      <td>100250783.0</td>\n",
       "      <td>1</td>\n",
       "    </tr>\n",
       "    <tr>\n",
       "      <th>3</th>\n",
       "      <td>100019378.0</td>\n",
       "      <td>1</td>\n",
       "    </tr>\n",
       "    <tr>\n",
       "      <th>4</th>\n",
       "      <td>100270661.0</td>\n",
       "      <td>1</td>\n",
       "    </tr>\n",
       "  </tbody>\n",
       "</table>\n",
       "</div>"
      ],
      "text/plain": [
       "         index  Employee ID\n",
       "0  100000000.0            6\n",
       "1  100018043.0            1\n",
       "2  100250783.0            1\n",
       "3  100019378.0            1\n",
       "4  100270661.0            1"
      ]
     },
     "execution_count": 633,
     "metadata": {},
     "output_type": "execute_result"
    }
   ],
   "source": [
    "pd.DataFrame(effectiveness['Employee ID'].value_counts()).reset_index().head(5)"
   ]
  },
  {
   "cell_type": "markdown",
   "metadata": {},
   "source": [
    "The above shows we were wrong...we actually just have 'Employee ID' 100000000.0 showing up 6 times. I'm unsure what exactly is going on here but let's just drop that employee(s?) and move on."
   ]
  },
  {
   "cell_type": "code",
   "execution_count": 634,
   "metadata": {
    "collapsed": true
   },
   "outputs": [],
   "source": [
    "effectiveness_df = effectiveness.drop(effectiveness[effectiveness['Employee ID'] == 100000000.0].index)"
   ]
  },
  {
   "cell_type": "code",
   "execution_count": 635,
   "metadata": {},
   "outputs": [
    {
     "name": "stdout",
     "output_type": "stream",
     "text": [
      "Every row in the effectiveness data now corresponds to a unique teacher.\n"
     ]
    }
   ],
   "source": [
    "if len(effectiveness_df['Employee ID'].unique()) == effectiveness_df.shape[0]:\n",
    "    print('Every row in the effectiveness data now corresponds to a unique teacher.')\n",
    "else:\n",
    "    print('Some rows contain data on the same teacher.')"
   ]
  },
  {
   "cell_type": "markdown",
   "metadata": {},
   "source": [
    "I would check for duplicates in the application dataframe too, but there is no variable that is in theory a unique id (since 'Employee ID' is only assigned to hired teachers). "
   ]
  },
  {
   "cell_type": "code",
   "execution_count": 636,
   "metadata": {},
   "outputs": [],
   "source": [
    "# Make sure App Date is recognized as a date.\n",
    "applicant['App Date'] = pd.to_datetime(applicant['App Date'])"
   ]
  },
  {
   "cell_type": "code",
   "execution_count": 637,
   "metadata": {},
   "outputs": [
    {
     "data": {
      "text/plain": [
       "dtype('<M8[ns]')"
      ]
     },
     "execution_count": 637,
     "metadata": {},
     "output_type": "execute_result"
    }
   ],
   "source": [
    "# Confirm it is.\n",
    "applicant['App Date'].dtype"
   ]
  },
  {
   "cell_type": "code",
   "execution_count": 638,
   "metadata": {},
   "outputs": [
    {
     "data": {
      "text/html": [
       "<div>\n",
       "<style>\n",
       "    .dataframe thead tr:only-child th {\n",
       "        text-align: right;\n",
       "    }\n",
       "\n",
       "    .dataframe thead th {\n",
       "        text-align: left;\n",
       "    }\n",
       "\n",
       "    .dataframe tbody tr th {\n",
       "        vertical-align: top;\n",
       "    }\n",
       "</style>\n",
       "<table border=\"1\" class=\"dataframe\">\n",
       "  <thead>\n",
       "    <tr style=\"text-align: right;\">\n",
       "      <th></th>\n",
       "      <th>App Date</th>\n",
       "      <th>Gender</th>\n",
       "      <th>Diverse Origin?</th>\n",
       "      <th>UG Degree</th>\n",
       "      <th>UG GPA</th>\n",
       "      <th>Grad Degree</th>\n",
       "      <th>Resume Screen Score</th>\n",
       "      <th>Phone Screen Score</th>\n",
       "      <th>Phone Screen Score - Responsibility</th>\n",
       "      <th>Phone Screen Score - Interpersonal Skills</th>\n",
       "      <th>...</th>\n",
       "      <th>Other Language</th>\n",
       "      <th>FT Teach Experience</th>\n",
       "      <th>Low Income Teach Experience</th>\n",
       "      <th>Youth Experience</th>\n",
       "      <th>Self-Described Phrase</th>\n",
       "      <th>Self-Described Phrase.1</th>\n",
       "      <th>Self-Described Phrase.2</th>\n",
       "      <th>Self-Described Phrase.3</th>\n",
       "      <th>Self-Described Phrase.4</th>\n",
       "      <th>Employee ID</th>\n",
       "    </tr>\n",
       "  </thead>\n",
       "  <tbody>\n",
       "    <tr>\n",
       "      <th>23</th>\n",
       "      <td>2014-12-09</td>\n",
       "      <td>F</td>\n",
       "      <td>Yes</td>\n",
       "      <td>Elementary Education</td>\n",
       "      <td>0.0</td>\n",
       "      <td>NaN</td>\n",
       "      <td>4-RECOMMEND W/RESERV</td>\n",
       "      <td>3-RECOMMEND</td>\n",
       "      <td>3-RECOMMEND</td>\n",
       "      <td>3-RECOMMEND</td>\n",
       "      <td>...</td>\n",
       "      <td>NaN</td>\n",
       "      <td>c) 1</td>\n",
       "      <td>c) 1</td>\n",
       "      <td>g) 5+</td>\n",
       "      <td>Avid Learner</td>\n",
       "      <td>Dedicated</td>\n",
       "      <td>Reflective</td>\n",
       "      <td>Data Driven</td>\n",
       "      <td>Encouraging</td>\n",
       "      <td>NaN</td>\n",
       "    </tr>\n",
       "    <tr>\n",
       "      <th>39</th>\n",
       "      <td>2014-12-14</td>\n",
       "      <td>M</td>\n",
       "      <td>No</td>\n",
       "      <td>Art, Photography/Related Media</td>\n",
       "      <td>0.0</td>\n",
       "      <td>Education: Other</td>\n",
       "      <td>2-HIGHLY RECOMMEND</td>\n",
       "      <td>2-HIGHLY RECOMMEND</td>\n",
       "      <td>2-HIGHLY RECOMMEND</td>\n",
       "      <td>3-RECOMMEND</td>\n",
       "      <td>...</td>\n",
       "      <td>NaN</td>\n",
       "      <td>g) 5+</td>\n",
       "      <td>g) 5+</td>\n",
       "      <td>g) 5+</td>\n",
       "      <td>Dedicated</td>\n",
       "      <td>Creative</td>\n",
       "      <td>Patient</td>\n",
       "      <td>Reflective</td>\n",
       "      <td>Community Focused</td>\n",
       "      <td>NaN</td>\n",
       "    </tr>\n",
       "    <tr>\n",
       "      <th>2298</th>\n",
       "      <td>2014-12-15</td>\n",
       "      <td>F</td>\n",
       "      <td>No</td>\n",
       "      <td>NaN</td>\n",
       "      <td>0.0</td>\n",
       "      <td>Curriculum and Instruction</td>\n",
       "      <td>3-RECOMMEND</td>\n",
       "      <td>3-RECOMMEND</td>\n",
       "      <td>3-RECOMMEND</td>\n",
       "      <td>3-RECOMMEND</td>\n",
       "      <td>...</td>\n",
       "      <td>NaN</td>\n",
       "      <td>b) &lt; 1</td>\n",
       "      <td>b) &lt; 1</td>\n",
       "      <td>e) 3</td>\n",
       "      <td>Dedicated</td>\n",
       "      <td>Inspiring</td>\n",
       "      <td>Leader</td>\n",
       "      <td>Passionate</td>\n",
       "      <td>Organized</td>\n",
       "      <td>100265225.0</td>\n",
       "    </tr>\n",
       "    <tr>\n",
       "      <th>69</th>\n",
       "      <td>2014-12-16</td>\n",
       "      <td>F</td>\n",
       "      <td>No</td>\n",
       "      <td>Elementary Education</td>\n",
       "      <td>0.0</td>\n",
       "      <td>NaN</td>\n",
       "      <td>4-RECOMMEND W/RESERV</td>\n",
       "      <td>4-RECOMMEND W/RESERV</td>\n",
       "      <td>3-RECOMMEND</td>\n",
       "      <td>3-RECOMMEND</td>\n",
       "      <td>...</td>\n",
       "      <td>NaN</td>\n",
       "      <td>f) 4</td>\n",
       "      <td>d) 2</td>\n",
       "      <td>g) 5+</td>\n",
       "      <td>Encouraging</td>\n",
       "      <td>Positive</td>\n",
       "      <td>Patient</td>\n",
       "      <td>Organized</td>\n",
       "      <td>Dedicated</td>\n",
       "      <td>100265464.0</td>\n",
       "    </tr>\n",
       "  </tbody>\n",
       "</table>\n",
       "<p>4 rows × 31 columns</p>\n",
       "</div>"
      ],
      "text/plain": [
       "       App Date Gender Diverse Origin?                       UG Degree  \\\n",
       "23   2014-12-09      F             Yes            Elementary Education   \n",
       "39   2014-12-14      M              No  Art, Photography/Related Media   \n",
       "2298 2014-12-15      F              No                             NaN   \n",
       "69   2014-12-16      F              No            Elementary Education   \n",
       "\n",
       "      UG GPA                 Grad Degree   Resume Screen Score  \\\n",
       "23       0.0                         NaN  4-RECOMMEND W/RESERV   \n",
       "39       0.0            Education: Other    2-HIGHLY RECOMMEND   \n",
       "2298     0.0  Curriculum and Instruction           3-RECOMMEND   \n",
       "69       0.0                         NaN  4-RECOMMEND W/RESERV   \n",
       "\n",
       "        Phone Screen Score Phone Screen Score - Responsibility  \\\n",
       "23             3-RECOMMEND                         3-RECOMMEND   \n",
       "39      2-HIGHLY RECOMMEND                  2-HIGHLY RECOMMEND   \n",
       "2298           3-RECOMMEND                         3-RECOMMEND   \n",
       "69    4-RECOMMEND W/RESERV                         3-RECOMMEND   \n",
       "\n",
       "     Phone Screen Score - Interpersonal Skills     ...      Other Language  \\\n",
       "23                                 3-RECOMMEND     ...                 NaN   \n",
       "39                                 3-RECOMMEND     ...                 NaN   \n",
       "2298                               3-RECOMMEND     ...                 NaN   \n",
       "69                                 3-RECOMMEND     ...                 NaN   \n",
       "\n",
       "     FT Teach Experience Low Income Teach Experience Youth Experience  \\\n",
       "23                  c) 1                        c) 1            g) 5+   \n",
       "39                 g) 5+                       g) 5+            g) 5+   \n",
       "2298              b) < 1                      b) < 1             e) 3   \n",
       "69                  f) 4                        d) 2            g) 5+   \n",
       "\n",
       "     Self-Described Phrase Self-Described Phrase.1 Self-Described Phrase.2  \\\n",
       "23            Avid Learner               Dedicated              Reflective   \n",
       "39               Dedicated                Creative                 Patient   \n",
       "2298             Dedicated               Inspiring                  Leader   \n",
       "69             Encouraging                Positive                 Patient   \n",
       "\n",
       "     Self-Described Phrase.3 Self-Described Phrase.4  Employee ID  \n",
       "23               Data Driven             Encouraging          NaN  \n",
       "39                Reflective       Community Focused          NaN  \n",
       "2298              Passionate               Organized  100265225.0  \n",
       "69                 Organized               Dedicated  100265464.0  \n",
       "\n",
       "[4 rows x 31 columns]"
      ]
     },
     "execution_count": 638,
     "metadata": {},
     "output_type": "execute_result"
    }
   ],
   "source": [
    "applicant[applicant.duplicated()].sort_values(by='App Date')[1:5]"
   ]
  },
  {
   "cell_type": "markdown",
   "metadata": {},
   "source": [
    "So something funky is going on. It says we do have duplicates in the dataframe, but manual inspection does not show this to be the case. Pandas has been reported to have this as a [bug](https://github.com/pandas-dev/pandas/issues/11436). We'll assume it is a bug and move on with the entire applicant dataframe as is."
   ]
  },
  {
   "cell_type": "markdown",
   "metadata": {},
   "source": [
    "## Data processing"
   ]
  },
  {
   "cell_type": "markdown",
   "metadata": {},
   "source": [
    "** Moving forward, the applicant and effectiveness_df are assumed free of duplicates and to be used. **"
   ]
  },
  {
   "cell_type": "markdown",
   "metadata": {},
   "source": [
    "We need to address two concerns:\n",
    "\n",
    "\n",
    "1. Determine what outcome variable(s) is of interest.\n",
    "2. Prepare training features for a model. That is, we have many qualitative variables in the feature set, and we need to make sure a machine learning model can handle them."
   ]
  },
  {
   "cell_type": "markdown",
   "metadata": {},
   "source": [
    "### Determine outcome variable"
   ]
  },
  {
   "cell_type": "markdown",
   "metadata": {},
   "source": [
    "We are given multiple measure of teacher effectiveness:"
   ]
  },
  {
   "cell_type": "code",
   "execution_count": 639,
   "metadata": {},
   "outputs": [
    {
     "data": {
      "text/html": [
       "<div>\n",
       "<style>\n",
       "    .dataframe thead tr:only-child th {\n",
       "        text-align: right;\n",
       "    }\n",
       "\n",
       "    .dataframe thead th {\n",
       "        text-align: left;\n",
       "    }\n",
       "\n",
       "    .dataframe tbody tr th {\n",
       "        vertical-align: top;\n",
       "    }\n",
       "</style>\n",
       "<table border=\"1\" class=\"dataframe\">\n",
       "  <thead>\n",
       "    <tr style=\"text-align: right;\">\n",
       "      <th></th>\n",
       "      <th>Employee ID</th>\n",
       "      <th>Active Employee</th>\n",
       "      <th>Overall Rating</th>\n",
       "      <th>Rating Points</th>\n",
       "      <th>Student Growth Rating</th>\n",
       "      <th>Student Growth Points</th>\n",
       "      <th>Teaching Obs Score</th>\n",
       "      <th>Exhibits High Expectations Score</th>\n",
       "      <th>Supportiveof Students Score</th>\n",
       "    </tr>\n",
       "  </thead>\n",
       "  <tbody>\n",
       "    <tr>\n",
       "      <th>0</th>\n",
       "      <td>100006086.0</td>\n",
       "      <td>Yes</td>\n",
       "      <td>A</td>\n",
       "      <td>51.42</td>\n",
       "      <td>A</td>\n",
       "      <td>20.9</td>\n",
       "      <td>72%</td>\n",
       "      <td>86%</td>\n",
       "      <td>82%</td>\n",
       "    </tr>\n",
       "    <tr>\n",
       "      <th>1</th>\n",
       "      <td>100019596.0</td>\n",
       "      <td>Yes</td>\n",
       "      <td>E</td>\n",
       "      <td>70.25</td>\n",
       "      <td>E</td>\n",
       "      <td>38.0</td>\n",
       "      <td>79%</td>\n",
       "      <td>88%</td>\n",
       "      <td>83%</td>\n",
       "    </tr>\n",
       "    <tr>\n",
       "      <th>2</th>\n",
       "      <td>100192425.0</td>\n",
       "      <td>Yes</td>\n",
       "      <td>E</td>\n",
       "      <td>79.85</td>\n",
       "      <td>E</td>\n",
       "      <td>42.0</td>\n",
       "      <td>NaN</td>\n",
       "      <td>NaN</td>\n",
       "      <td>NaN</td>\n",
       "    </tr>\n",
       "  </tbody>\n",
       "</table>\n",
       "</div>"
      ],
      "text/plain": [
       "   Employee ID Active Employee Overall Rating  Rating Points  \\\n",
       "0  100006086.0             Yes              A          51.42   \n",
       "1  100019596.0             Yes              E          70.25   \n",
       "2  100192425.0             Yes              E          79.85   \n",
       "\n",
       "  Student Growth Rating  Student Growth Points Teaching Obs Score  \\\n",
       "0                     A                   20.9                72%   \n",
       "1                     E                   38.0                79%   \n",
       "2                     E                   42.0                NaN   \n",
       "\n",
       "  Exhibits High Expectations Score Supportiveof Students Score  \n",
       "0                              86%                         82%  \n",
       "1                              88%                         83%  \n",
       "2                              NaN                         NaN  "
      ]
     },
     "execution_count": 639,
     "metadata": {},
     "output_type": "execute_result"
    }
   ],
   "source": [
    "effectiveness_df.head(3)"
   ]
  },
  {
   "cell_type": "markdown",
   "metadata": {},
   "source": [
    "But what does it mean?? One big challenge of this challenge is that we have very little context re: the output variables. That is, the whole point of this task is predict and find predictors of teacher success...but how we define teacher success is unclear. So let's try to do that here.\n",
    "\n",
    "Overall rating seems like a nice title, but the outcomes for it are puzzling."
   ]
  },
  {
   "cell_type": "code",
   "execution_count": 640,
   "metadata": {},
   "outputs": [
    {
     "data": {
      "text/plain": [
       "E                          2970\n",
       "D                          1008\n",
       "A                           585\n",
       "Insufficient                363\n",
       "NM                           18\n",
       "Pending Leader Decision       2\n",
       "Pending                       1\n",
       "Name: Overall Rating, dtype: int64"
      ]
     },
     "execution_count": 640,
     "metadata": {},
     "output_type": "execute_result"
    }
   ],
   "source": [
    "effectiveness_df['Overall Rating'].value_counts()"
   ]
  },
  {
   "cell_type": "markdown",
   "metadata": {},
   "source": [
    "A quick google search didn't tell me anything about what these grades might mean. However, I am going to assume that more 'Rating Points' implies a better teacher performance, so let's dig into that."
   ]
  },
  {
   "cell_type": "code",
   "execution_count": 641,
   "metadata": {},
   "outputs": [
    {
     "name": "stderr",
     "output_type": "stream",
     "text": [
      "/Users/wnowak/anaconda/envs/py35/lib/python3.5/site-packages/statsmodels/nonparametric/kde.py:475: DeprecationWarning: object of type <class 'numpy.float64'> cannot be safely interpreted as an integer.\n",
      "  grid,delta = np.linspace(a,b,gridsize,retstep=True)\n"
     ]
    },
    {
     "data": {
      "text/plain": [
       "<matplotlib.axes._subplots.AxesSubplot at 0x11bf2b390>"
      ]
     },
     "execution_count": 641,
     "metadata": {},
     "output_type": "execute_result"
    },
    {
     "data": {
      "image/png": "[encoded data removed]",
      "text/plain": [
       "<matplotlib.figure.Figure at 0x11bf1fd68>"
      ]
     },
     "metadata": {},
     "output_type": "display_data"
    }
   ],
   "source": [
    "sns.distplot(effectiveness_df['Rating Points'].dropna())"
   ]
  },
  {
   "cell_type": "markdown",
   "metadata": {
    "variables": {
     "effectiveness_df['Rating Points'].dropna().median()": "75.45"
    }
   },
   "source": [
    "A nice normalish distribution, with points centered at a median of {{effectiveness_df['Rating Points'].dropna().median()}}."
   ]
  },
  {
   "cell_type": "code",
   "execution_count": 642,
   "metadata": {},
   "outputs": [
    {
     "name": "stderr",
     "output_type": "stream",
     "text": [
      "/Users/wnowak/anaconda/envs/py35/lib/python3.5/site-packages/seaborn/categorical.py:342: DeprecationWarning: pandas.core.common.is_categorical_dtype is deprecated. import from the public API: pandas.api.types.is_categorical_dtype instead\n",
      "  elif is_categorical(y):\n"
     ]
    },
    {
     "data": {
      "text/plain": [
       "<matplotlib.axes._subplots.AxesSubplot at 0x11926dd30>"
      ]
     },
     "execution_count": 642,
     "metadata": {},
     "output_type": "execute_result"
    },
    {
     "data": {
      "image/png": "[encoded data removed]",
      "text/plain": [
       "<matplotlib.figure.Figure at 0x1191b09e8>"
      ]
     },
     "metadata": {},
     "output_type": "display_data"
    }
   ],
   "source": [
    "# Out of curiosity:\n",
    "sns.boxplot(x='Overall Rating', y=\"Rating Points\", data=effectiveness_df)"
   ]
  },
  {
   "cell_type": "markdown",
   "metadata": {
    "variables": {
     "effectiveness_df['Rating Points'].dropna().std()": "8.3849280533231383"
    }
   },
   "source": [
    "So it actually seems like 'A' is the worst grade, if we assume that more rating points are better.\n",
    "\n",
    "Anyways, we could delve into this more, and we probably should, but in the interest of time, let's for now simply take the 'Rating Points' as our outcome variable of choice. We'll assume that more points means a 'better teacher', and this is what we want to select for. 'Rating Points' makes for a more nuanced criterion variable because it has a large spread (s.d. of {{effectiveness_df['Rating Points'].dropna().std()}})."
   ]
  },
  {
   "cell_type": "markdown",
   "metadata": {},
   "source": [
    "### Prepare training data for model"
   ]
  },
  {
   "cell_type": "markdown",
   "metadata": {},
   "source": [
    "Let's put everything we want to train on together:"
   ]
  },
  {
   "cell_type": "code",
   "execution_count": 643,
   "metadata": {},
   "outputs": [],
   "source": [
    "# Criterion (output) variable\n",
    "criterion = 'Rating Points'\n",
    "output = effectiveness_df[['Employee ID',criterion]]"
   ]
  },
  {
   "cell_type": "code",
   "execution_count": 644,
   "metadata": {
    "collapsed": true
   },
   "outputs": [],
   "source": [
    "train_df = output.merge(applicant, how='inner', on='Employee ID')"
   ]
  },
  {
   "cell_type": "code",
   "execution_count": 645,
   "metadata": {},
   "outputs": [
    {
     "data": {
      "text/html": [
       "<div>\n",
       "<style>\n",
       "    .dataframe thead tr:only-child th {\n",
       "        text-align: right;\n",
       "    }\n",
       "\n",
       "    .dataframe thead th {\n",
       "        text-align: left;\n",
       "    }\n",
       "\n",
       "    .dataframe tbody tr th {\n",
       "        vertical-align: top;\n",
       "    }\n",
       "</style>\n",
       "<table border=\"1\" class=\"dataframe\">\n",
       "  <thead>\n",
       "    <tr style=\"text-align: right;\">\n",
       "      <th></th>\n",
       "      <th>Employee ID</th>\n",
       "      <th>Rating Points</th>\n",
       "      <th>App Date</th>\n",
       "      <th>Gender</th>\n",
       "      <th>Diverse Origin?</th>\n",
       "      <th>UG Degree</th>\n",
       "      <th>UG GPA</th>\n",
       "      <th>Grad Degree</th>\n",
       "      <th>Resume Screen Score</th>\n",
       "      <th>Phone Screen Score</th>\n",
       "      <th>...</th>\n",
       "      <th>Other Language Fluent?</th>\n",
       "      <th>Other Language</th>\n",
       "      <th>FT Teach Experience</th>\n",
       "      <th>Low Income Teach Experience</th>\n",
       "      <th>Youth Experience</th>\n",
       "      <th>Self-Described Phrase</th>\n",
       "      <th>Self-Described Phrase.1</th>\n",
       "      <th>Self-Described Phrase.2</th>\n",
       "      <th>Self-Described Phrase.3</th>\n",
       "      <th>Self-Described Phrase.4</th>\n",
       "    </tr>\n",
       "  </thead>\n",
       "  <tbody>\n",
       "    <tr>\n",
       "      <th>0</th>\n",
       "      <td>100250922.0</td>\n",
       "      <td>68.91</td>\n",
       "      <td>2015-01-08</td>\n",
       "      <td>NaN</td>\n",
       "      <td>No</td>\n",
       "      <td>Elementary Education</td>\n",
       "      <td>3.68</td>\n",
       "      <td>NaN</td>\n",
       "      <td>3-RECOMMEND</td>\n",
       "      <td>3-RECOMMEND</td>\n",
       "      <td>...</td>\n",
       "      <td>NO</td>\n",
       "      <td>NaN</td>\n",
       "      <td>b) &lt; 1</td>\n",
       "      <td>f) 4</td>\n",
       "      <td>g) 5+</td>\n",
       "      <td>Avid Learner</td>\n",
       "      <td>Creative</td>\n",
       "      <td>Data Driven</td>\n",
       "      <td>Leader</td>\n",
       "      <td>Innovative</td>\n",
       "    </tr>\n",
       "    <tr>\n",
       "      <th>1</th>\n",
       "      <td>100266008.0</td>\n",
       "      <td>61.52</td>\n",
       "      <td>2015-02-17</td>\n",
       "      <td>M</td>\n",
       "      <td>No</td>\n",
       "      <td>Elementary Education</td>\n",
       "      <td>0.00</td>\n",
       "      <td>Education: Other</td>\n",
       "      <td>3-RECOMMEND</td>\n",
       "      <td>3-RECOMMEND</td>\n",
       "      <td>...</td>\n",
       "      <td>NO</td>\n",
       "      <td>NaN</td>\n",
       "      <td>d) 2</td>\n",
       "      <td>d) 2</td>\n",
       "      <td>d) 2</td>\n",
       "      <td>Confident</td>\n",
       "      <td>Data Driven</td>\n",
       "      <td>Flexible</td>\n",
       "      <td>Reflective</td>\n",
       "      <td>Dedicated</td>\n",
       "    </tr>\n",
       "    <tr>\n",
       "      <th>2</th>\n",
       "      <td>100266484.0</td>\n",
       "      <td>NaN</td>\n",
       "      <td>2016-02-24</td>\n",
       "      <td>NaN</td>\n",
       "      <td>Yes</td>\n",
       "      <td>Other Degree</td>\n",
       "      <td>3.87</td>\n",
       "      <td>Education: Other</td>\n",
       "      <td>3-RECOMMEND</td>\n",
       "      <td>2-HIGHLY RECOMMEND</td>\n",
       "      <td>...</td>\n",
       "      <td>NO</td>\n",
       "      <td>NaN</td>\n",
       "      <td>a) 0</td>\n",
       "      <td>f) 4</td>\n",
       "      <td>g) 5+</td>\n",
       "      <td>Dedicated</td>\n",
       "      <td>Flexible</td>\n",
       "      <td>Relationship Builder</td>\n",
       "      <td>Reflective</td>\n",
       "      <td>Data Driven</td>\n",
       "    </tr>\n",
       "    <tr>\n",
       "      <th>3</th>\n",
       "      <td>100266485.0</td>\n",
       "      <td>72.84</td>\n",
       "      <td>2015-02-21</td>\n",
       "      <td>F</td>\n",
       "      <td>No</td>\n",
       "      <td>Elementary Education</td>\n",
       "      <td>0.00</td>\n",
       "      <td>NaN</td>\n",
       "      <td>3-RECOMMEND</td>\n",
       "      <td>3-RECOMMEND</td>\n",
       "      <td>...</td>\n",
       "      <td>NO</td>\n",
       "      <td>NaN</td>\n",
       "      <td>d) 2</td>\n",
       "      <td>d) 2</td>\n",
       "      <td>g) 5+</td>\n",
       "      <td>Dedicated</td>\n",
       "      <td>Energetic</td>\n",
       "      <td>Open-Minded</td>\n",
       "      <td>Positive</td>\n",
       "      <td>Passionate</td>\n",
       "    </tr>\n",
       "    <tr>\n",
       "      <th>4</th>\n",
       "      <td>100266808.0</td>\n",
       "      <td>69.41</td>\n",
       "      <td>2015-01-07</td>\n",
       "      <td>M</td>\n",
       "      <td>No</td>\n",
       "      <td>Spec Ed, Generalist</td>\n",
       "      <td>0.00</td>\n",
       "      <td>NaN</td>\n",
       "      <td>3-RECOMMEND</td>\n",
       "      <td>3-RECOMMEND</td>\n",
       "      <td>...</td>\n",
       "      <td>NO</td>\n",
       "      <td>NaN</td>\n",
       "      <td>e) 3</td>\n",
       "      <td>a) 0</td>\n",
       "      <td>e) 3</td>\n",
       "      <td>Dedicated</td>\n",
       "      <td>Relationship Builder</td>\n",
       "      <td>Encouraging</td>\n",
       "      <td>Reflective</td>\n",
       "      <td>Passionate</td>\n",
       "    </tr>\n",
       "  </tbody>\n",
       "</table>\n",
       "<p>5 rows × 32 columns</p>\n",
       "</div>"
      ],
      "text/plain": [
       "   Employee ID  Rating Points   App Date Gender Diverse Origin?  \\\n",
       "0  100250922.0          68.91 2015-01-08    NaN              No   \n",
       "1  100266008.0          61.52 2015-02-17      M              No   \n",
       "2  100266484.0            NaN 2016-02-24    NaN             Yes   \n",
       "3  100266485.0          72.84 2015-02-21      F              No   \n",
       "4  100266808.0          69.41 2015-01-07      M              No   \n",
       "\n",
       "              UG Degree  UG GPA       Grad Degree Resume Screen Score  \\\n",
       "0  Elementary Education    3.68               NaN         3-RECOMMEND   \n",
       "1  Elementary Education    0.00  Education: Other         3-RECOMMEND   \n",
       "2          Other Degree    3.87  Education: Other         3-RECOMMEND   \n",
       "3  Elementary Education    0.00               NaN         3-RECOMMEND   \n",
       "4   Spec Ed, Generalist    0.00               NaN         3-RECOMMEND   \n",
       "\n",
       "   Phone Screen Score           ...           Other Language Fluent?  \\\n",
       "0         3-RECOMMEND           ...                               NO   \n",
       "1         3-RECOMMEND           ...                               NO   \n",
       "2  2-HIGHLY RECOMMEND           ...                               NO   \n",
       "3         3-RECOMMEND           ...                               NO   \n",
       "4         3-RECOMMEND           ...                               NO   \n",
       "\n",
       "  Other Language FT Teach Experience Low Income Teach Experience  \\\n",
       "0            NaN              b) < 1                        f) 4   \n",
       "1            NaN                d) 2                        d) 2   \n",
       "2            NaN                a) 0                        f) 4   \n",
       "3            NaN                d) 2                        d) 2   \n",
       "4            NaN                e) 3                        a) 0   \n",
       "\n",
       "  Youth Experience Self-Described Phrase Self-Described Phrase.1  \\\n",
       "0            g) 5+          Avid Learner                Creative   \n",
       "1             d) 2             Confident             Data Driven   \n",
       "2            g) 5+             Dedicated                Flexible   \n",
       "3            g) 5+             Dedicated               Energetic   \n",
       "4             e) 3             Dedicated    Relationship Builder   \n",
       "\n",
       "  Self-Described Phrase.2 Self-Described Phrase.3 Self-Described Phrase.4  \n",
       "0             Data Driven                  Leader              Innovative  \n",
       "1                Flexible              Reflective               Dedicated  \n",
       "2    Relationship Builder              Reflective             Data Driven  \n",
       "3             Open-Minded                Positive              Passionate  \n",
       "4             Encouraging              Reflective              Passionate  \n",
       "\n",
       "[5 rows x 32 columns]"
      ]
     },
     "execution_count": 645,
     "metadata": {},
     "output_type": "execute_result"
    }
   ],
   "source": [
    "train_df.head()"
   ]
  },
  {
   "cell_type": "code",
   "execution_count": 646,
   "metadata": {},
   "outputs": [
    {
     "name": "stdout",
     "output_type": "stream",
     "text": [
      "(1136, 32)\n"
     ]
    }
   ],
   "source": [
    "print(train_df.shape)"
   ]
  },
  {
   "cell_type": "markdown",
   "metadata": {
    "variables": {
     "train_df.shape[0]": "1136"
    }
   },
   "source": [
    "So we only have {{train_df.shape[0]}} teachers that were hired that we have applicant data on. This is surprising. I would have thought that the applicant data size > the hired data size, but they were about the same, and the intersection of the two is much smaller than the hired data set alone, indicating that we have teacher effectiveness data for teachers that we don't have applicants data. **Maybe we can use all this 'extra' data at some point. If I don't address that more, note it as a point of interest to return to.**\n",
    "\n",
    "My idea would be to take the teachers that were not hired and assign them some low Rating score (under the assumption that since they were not hired, they would do poorly and get bad scores). This tactic might increase the predictive ability of our models."
   ]
  },
  {
   "cell_type": "code",
   "execution_count": 647,
   "metadata": {},
   "outputs": [
    {
     "name": "stdout",
     "output_type": "stream",
     "text": [
      "<class 'pandas.core.frame.DataFrame'>\n",
      "Int64Index: 1136 entries, 0 to 1135\n",
      "Data columns (total 32 columns):\n",
      "Employee ID                                  1136 non-null float64\n",
      "Rating Points                                1075 non-null float64\n",
      "App Date                                     1136 non-null datetime64[ns]\n",
      "Gender                                       865 non-null object\n",
      "Diverse Origin?                              1136 non-null object\n",
      "UG Degree                                    939 non-null object\n",
      "UG GPA                                       1136 non-null float64\n",
      "Grad Degree                                  563 non-null object\n",
      "Resume Screen Score                          1136 non-null object\n",
      "Phone Screen Score                           1136 non-null object\n",
      "Phone Screen Score - Responsibility          1133 non-null object\n",
      "Phone Screen Score - Interpersonal Skills    1133 non-null object\n",
      "Phone Screen Score - Critical Thinking       1133 non-null object\n",
      "Phone Screen Score - Communication           1133 non-null object\n",
      "Phone Screen Score - Culture                 1133 non-null object\n",
      "Currently Employed                           953 non-null object\n",
      "Additional Language?                         60 non-null object\n",
      "Elementary Teacher                           1093 non-null object\n",
      "Secondary Math Teacher                       1093 non-null object\n",
      "Secondary Science Teacher                    1093 non-null object\n",
      "Interested in ELAS                           1092 non-null object\n",
      "Spanish Speaker                              1091 non-null object\n",
      "Other Language Fluent?                       1092 non-null object\n",
      "Other Language                               69 non-null object\n",
      "FT Teach Experience                          1084 non-null object\n",
      "Low Income Teach Experience                  1093 non-null object\n",
      "Youth Experience                             1092 non-null object\n",
      "Self-Described Phrase                        1080 non-null object\n",
      "Self-Described Phrase.1                      1086 non-null object\n",
      "Self-Described Phrase.2                      1078 non-null object\n",
      "Self-Described Phrase.3                      1077 non-null object\n",
      "Self-Described Phrase.4                      1085 non-null object\n",
      "dtypes: datetime64[ns](1), float64(3), object(28)\n",
      "memory usage: 292.9+ KB\n"
     ]
    }
   ],
   "source": [
    "train_df.info()"
   ]
  },
  {
   "cell_type": "markdown",
   "metadata": {},
   "source": [
    "We have a lot of qualitative variables (objects), and we need to address this for our model. "
   ]
  },
  {
   "cell_type": "markdown",
   "metadata": {},
   "source": [
    "#### Model choice"
   ]
  },
  {
   "cell_type": "markdown",
   "metadata": {},
   "source": [
    "Given the qualitative nature of the predictors and their non-linearity, and the relatively small size of our data, I think that a decision tree model would be best. I've had good luck using XGB, as have others, so we'll plan ahead with that."
   ]
  },
  {
   "cell_type": "markdown",
   "metadata": {},
   "source": [
    "#### Eliminate date"
   ]
  },
  {
   "cell_type": "markdown",
   "metadata": {},
   "source": [
    "Before we finish, we also need to handle the date object."
   ]
  },
  {
   "cell_type": "code",
   "execution_count": 648,
   "metadata": {},
   "outputs": [],
   "source": [
    "# Pull out features of application date that are numeric\n",
    "train_df['year'] = train_df['App Date'].dt.year\n",
    "train_df['month'] = train_df['App Date'].dt.month\n",
    "train_df['day'] = train_df['App Date'].dt.day"
   ]
  },
  {
   "cell_type": "code",
   "execution_count": 649,
   "metadata": {
    "collapsed": true
   },
   "outputs": [],
   "source": [
    "# Drop the date from the train_df\n",
    "train_df.drop('App Date', axis = 1, inplace=True)"
   ]
  },
  {
   "cell_type": "markdown",
   "metadata": {},
   "source": [
    "#### Combine common responses"
   ]
  },
  {
   "cell_type": "code",
   "execution_count": 650,
   "metadata": {},
   "outputs": [
    {
     "data": {
      "text/plain": [
       "Elementary Education           146\n",
       "Not applicable                 107\n",
       "English                         63\n",
       "Secondary Education             50\n",
       "Soc Sciences, Psychology        40\n",
       "Other Degree                    39\n",
       "Education: Other                32\n",
       "Soc Sciences, History           31\n",
       "Foreign Languages, Spanish      29\n",
       "General Pre-School Educ         22\n",
       "Mathematics                     22\n",
       "Science, Biology                21\n",
       "English, Literature             20\n",
       "Soc Sciences, Political Sci     19\n",
       "ART                             16\n",
       "English, Journ/Mass Comm        16\n",
       "Music                           16\n",
       "Business, Marketing             16\n",
       "Social Studies                  15\n",
       "Physical Education              14\n",
       "Name: UG Degree, dtype: int64"
      ]
     },
     "execution_count": 650,
     "metadata": {},
     "output_type": "execute_result"
    }
   ],
   "source": [
    "train_df['UG Degree'].value_counts()[0:20]"
   ]
  },
  {
   "cell_type": "markdown",
   "metadata": {},
   "source": [
    "In the 'UG Degree' variable, there is a lot of redundancy. Let's see if we can eliminate and simplify this."
   ]
  },
  {
   "cell_type": "code",
   "execution_count": 651,
   "metadata": {},
   "outputs": [],
   "source": [
    "train_df['UG Degree'] = np.where(train_df['UG Degree'].str.contains('English', case = False),'English',train_df['UG Degree'])\n",
    "train_df['UG Degree'] = np.where(train_df['UG Degree'].str.contains('Soc', case = False),'Social Science',train_df['UG Degree'])\n",
    "\n",
    "train_df['UG Degree'] = np.where(train_df['UG Degree'].str.contains('Education', case = False),'Education',train_df['UG Degree'])\n",
    "train_df['UG Degree'] = np.where(train_df['UG Degree'].str.contains('Educ', case = False),'Education',train_df['UG Degree'])\n",
    "train_df['UG Degree'] = np.where(train_df['UG Degree'].str.contains('Teacher', case = False),'Education',train_df['UG Degree'])\n",
    "train_df['UG Degree'] = np.where(train_df['UG Degree'].str.contains('Ed', case = False),'Education',train_df['UG Degree'])\n",
    "train_df['UG Degree'] = np.where(train_df['UG Degree'].str.contains('Physical Curr', case = False),'Education',train_df['UG Degree'])\n",
    "\n",
    "train_df['UG Degree'] = np.where(train_df['UG Degree'].str.contains('Spanish', case = False),'Foreign Language',train_df['UG Degree'])\n",
    "train_df['UG Degree'] = np.where(train_df['UG Degree'].str.contains('French', case = False),'Foreign Language',train_df['UG Degree'])\n",
    "train_df['UG Degree'] = np.where(train_df['UG Degree'].str.contains('German', case = False),'Foreign Language',train_df['UG Degree'])\n",
    "train_df['UG Degree'] = np.where(train_df['UG Degree'].str.contains('Business', case = False),'Business',train_df['UG Degree'])\n",
    "train_df['UG Degree'] = np.where(train_df['UG Degree'].str.contains('Art', case = False),'Art',train_df['UG Degree'])\n",
    "train_df['UG Degree'] = np.where(train_df['UG Degree'].str.contains('Biology', case = False),'Physical Sciences',train_df['UG Degree'])\n",
    "train_df['UG Degree'] = np.where(train_df['UG Degree'].str.contains('Environmental', case = False),'Physical Sciences',train_df['UG Degree'])\n",
    "train_df['UG Degree'] = np.where(train_df['UG Degree'].str.contains('Chemistry', case = False),'Physical Sciences',train_df['UG Degree'])\n",
    "\n",
    "# train_df['UG Degree'] = np.where(train_df['UG Degree'].str.contains('Science', case = False),'Physical Sciences',train_df['UG Degree'])\n",
    "train_df['UG Degree'] = np.where(train_df['UG Degree'].str.contains('Math', case = False),'Math',train_df['UG Degree'])\n",
    "train_df['UG Degree'] = np.where(train_df['UG Degree'].str.contains('Music', case = False),'Music',train_df['UG Degree'])\n",
    "\n",
    "train_df['UG Degree'] = np.where(train_df['UG Degree'].str.contains('Health', case = False),'Health',train_df['UG Degree'])"
   ]
  },
  {
   "cell_type": "code",
   "execution_count": 654,
   "metadata": {},
   "outputs": [
    {
     "data": {
      "text/plain": [
       "English                    318\n",
       "Education                  309\n",
       "Social Science             145\n",
       "Not applicable             107\n",
       "Art                         42\n",
       "Business                    42\n",
       "Other Degree                39\n",
       "Foreign Language            32\n",
       "Physical Sciences           31\n",
       "Music                       25\n",
       "Math                        23\n",
       "Health                       6\n",
       "Science                      5\n",
       "Foreign languages            4\n",
       "Linguistically Diff ESL      3\n",
       "Criminal Justice             2\n",
       "AGRICULTURE                  1\n",
       "Law                          1\n",
       "Agriculture, Forestry        1\n",
       "Name: UG Degree, dtype: int64"
      ]
     },
     "execution_count": 654,
     "metadata": {},
     "output_type": "execute_result"
    }
   ],
   "source": [
    "train_df['UG Degree'].value_counts()[0:20]"
   ]
  },
  {
   "cell_type": "code",
   "execution_count": 656,
   "metadata": {},
   "outputs": [],
   "source": [
    "# If degree now not in top 12, call other:\n",
    "train_df['UG Degree'] = np.where(~train_df['UG Degree'].isin(train_df['UG Degree'].value_counts()[0:11].index), 'Other', train_df['UG Degree'])"
   ]
  },
  {
   "cell_type": "code",
   "execution_count": 657,
   "metadata": {},
   "outputs": [
    {
     "data": {
      "text/plain": [
       "English              318\n",
       "Education            309\n",
       "Social Science       145\n",
       "Not applicable       107\n",
       "Art                   42\n",
       "Business              42\n",
       "Other Degree          39\n",
       "Foreign Language      32\n",
       "Physical Sciences     31\n",
       "Music                 25\n",
       "Math                  23\n",
       "Other                 23\n",
       "Name: UG Degree, dtype: int64"
      ]
     },
     "execution_count": 657,
     "metadata": {},
     "output_type": "execute_result"
    }
   ],
   "source": [
    "train_df['UG Degree'].value_counts()[0:20]"
   ]
  },
  {
   "cell_type": "markdown",
   "metadata": {},
   "source": [
    "#### Handle qualitative features"
   ]
  },
  {
   "cell_type": "markdown",
   "metadata": {},
   "source": [
    "Some qualitative features are categorical ('Gender') and some are ordinal ('Resume Screen Score'), so we need to handle these differently, perhaps. There is actually much [debate in the ML community](https://hackernoon.com/what-is-one-hot-encoding-why-and-when-do-you-have-to-use-it-e3c6186d008f) about how to pre-process qualititive data...and some good evidence shows that, currently, the naive approach of converting each category to a numeric variable performs well. Let's do that here first and then we can adjust later if we decide to. "
   ]
  },
  {
   "cell_type": "code",
   "execution_count": 658,
   "metadata": {
    "collapsed": true
   },
   "outputs": [],
   "source": [
    "# Keep an original, not encoded df too\n",
    "original_train_df = train_df.copy()"
   ]
  },
  {
   "cell_type": "code",
   "execution_count": 659,
   "metadata": {},
   "outputs": [
    {
     "data": {
      "text/html": [
       "<div>\n",
       "<style>\n",
       "    .dataframe thead tr:only-child th {\n",
       "        text-align: right;\n",
       "    }\n",
       "\n",
       "    .dataframe thead th {\n",
       "        text-align: left;\n",
       "    }\n",
       "\n",
       "    .dataframe tbody tr th {\n",
       "        vertical-align: top;\n",
       "    }\n",
       "</style>\n",
       "<table border=\"1\" class=\"dataframe\">\n",
       "  <thead>\n",
       "    <tr style=\"text-align: right;\">\n",
       "      <th></th>\n",
       "      <th>Employee ID</th>\n",
       "      <th>Rating Points</th>\n",
       "      <th>Gender</th>\n",
       "      <th>Diverse Origin?</th>\n",
       "      <th>UG Degree</th>\n",
       "      <th>UG GPA</th>\n",
       "      <th>Grad Degree</th>\n",
       "      <th>Resume Screen Score</th>\n",
       "      <th>Phone Screen Score</th>\n",
       "      <th>Phone Screen Score - Responsibility</th>\n",
       "      <th>...</th>\n",
       "      <th>Low Income Teach Experience</th>\n",
       "      <th>Youth Experience</th>\n",
       "      <th>Self-Described Phrase</th>\n",
       "      <th>Self-Described Phrase.1</th>\n",
       "      <th>Self-Described Phrase.2</th>\n",
       "      <th>Self-Described Phrase.3</th>\n",
       "      <th>Self-Described Phrase.4</th>\n",
       "      <th>year</th>\n",
       "      <th>month</th>\n",
       "      <th>day</th>\n",
       "    </tr>\n",
       "  </thead>\n",
       "  <tbody>\n",
       "    <tr>\n",
       "      <th>0</th>\n",
       "      <td>100250922.0</td>\n",
       "      <td>68.91</td>\n",
       "      <td>NaN</td>\n",
       "      <td>No</td>\n",
       "      <td>Education</td>\n",
       "      <td>3.68</td>\n",
       "      <td>NaN</td>\n",
       "      <td>3-RECOMMEND</td>\n",
       "      <td>3-RECOMMEND</td>\n",
       "      <td>3-RECOMMEND</td>\n",
       "      <td>...</td>\n",
       "      <td>f) 4</td>\n",
       "      <td>g) 5+</td>\n",
       "      <td>Avid Learner</td>\n",
       "      <td>Creative</td>\n",
       "      <td>Data Driven</td>\n",
       "      <td>Leader</td>\n",
       "      <td>Innovative</td>\n",
       "      <td>2015</td>\n",
       "      <td>1</td>\n",
       "      <td>8</td>\n",
       "    </tr>\n",
       "  </tbody>\n",
       "</table>\n",
       "<p>1 rows × 34 columns</p>\n",
       "</div>"
      ],
      "text/plain": [
       "   Employee ID  Rating Points Gender Diverse Origin?  UG Degree  UG GPA  \\\n",
       "0  100250922.0          68.91    NaN              No  Education    3.68   \n",
       "\n",
       "  Grad Degree Resume Screen Score Phone Screen Score  \\\n",
       "0         NaN         3-RECOMMEND        3-RECOMMEND   \n",
       "\n",
       "  Phone Screen Score - Responsibility ... Low Income Teach Experience  \\\n",
       "0                         3-RECOMMEND ...                        f) 4   \n",
       "\n",
       "  Youth Experience Self-Described Phrase Self-Described Phrase.1  \\\n",
       "0            g) 5+          Avid Learner                Creative   \n",
       "\n",
       "  Self-Described Phrase.2 Self-Described Phrase.3 Self-Described Phrase.4  \\\n",
       "0             Data Driven                  Leader              Innovative   \n",
       "\n",
       "   year month day  \n",
       "0  2015     1   8  \n",
       "\n",
       "[1 rows x 34 columns]"
      ]
     },
     "execution_count": 659,
     "metadata": {},
     "output_type": "execute_result"
    }
   ],
   "source": [
    "original_train_df.head(1)"
   ]
  },
  {
   "cell_type": "code",
   "execution_count": 660,
   "metadata": {
    "collapsed": true
   },
   "outputs": [],
   "source": [
    "# Convert to numeric using sklearn Label Encoder.\n",
    "for c in train_df.columns:\n",
    "#     train_df[c]=train_df[c].fillna(-1)\n",
    "    if train_df[c].dtype == 'object':\n",
    "        lbl = LabelEncoder()\n",
    "        lbl.fit(list(train_df[c].values))\n",
    "        train_df[c] = lbl.transform(list(train_df[c].values))"
   ]
  },
  {
   "cell_type": "code",
   "execution_count": 661,
   "metadata": {},
   "outputs": [
    {
     "data": {
      "text/html": [
       "<div>\n",
       "<style>\n",
       "    .dataframe thead tr:only-child th {\n",
       "        text-align: right;\n",
       "    }\n",
       "\n",
       "    .dataframe thead th {\n",
       "        text-align: left;\n",
       "    }\n",
       "\n",
       "    .dataframe tbody tr th {\n",
       "        vertical-align: top;\n",
       "    }\n",
       "</style>\n",
       "<table border=\"1\" class=\"dataframe\">\n",
       "  <thead>\n",
       "    <tr style=\"text-align: right;\">\n",
       "      <th></th>\n",
       "      <th>Employee ID</th>\n",
       "      <th>Rating Points</th>\n",
       "      <th>Gender</th>\n",
       "      <th>Diverse Origin?</th>\n",
       "      <th>UG Degree</th>\n",
       "      <th>UG GPA</th>\n",
       "      <th>Grad Degree</th>\n",
       "      <th>Resume Screen Score</th>\n",
       "      <th>Phone Screen Score</th>\n",
       "      <th>Phone Screen Score - Responsibility</th>\n",
       "      <th>...</th>\n",
       "      <th>Low Income Teach Experience</th>\n",
       "      <th>Youth Experience</th>\n",
       "      <th>Self-Described Phrase</th>\n",
       "      <th>Self-Described Phrase.1</th>\n",
       "      <th>Self-Described Phrase.2</th>\n",
       "      <th>Self-Described Phrase.3</th>\n",
       "      <th>Self-Described Phrase.4</th>\n",
       "      <th>year</th>\n",
       "      <th>month</th>\n",
       "      <th>day</th>\n",
       "    </tr>\n",
       "  </thead>\n",
       "  <tbody>\n",
       "    <tr>\n",
       "      <th>0</th>\n",
       "      <td>100250922.0</td>\n",
       "      <td>68.91</td>\n",
       "      <td>NaN</td>\n",
       "      <td>No</td>\n",
       "      <td>Education</td>\n",
       "      <td>3.68</td>\n",
       "      <td>NaN</td>\n",
       "      <td>3-RECOMMEND</td>\n",
       "      <td>3-RECOMMEND</td>\n",
       "      <td>3-RECOMMEND</td>\n",
       "      <td>...</td>\n",
       "      <td>f) 4</td>\n",
       "      <td>g) 5+</td>\n",
       "      <td>Avid Learner</td>\n",
       "      <td>Creative</td>\n",
       "      <td>Data Driven</td>\n",
       "      <td>Leader</td>\n",
       "      <td>Innovative</td>\n",
       "      <td>2015</td>\n",
       "      <td>1</td>\n",
       "      <td>8</td>\n",
       "    </tr>\n",
       "  </tbody>\n",
       "</table>\n",
       "<p>1 rows × 34 columns</p>\n",
       "</div>"
      ],
      "text/plain": [
       "   Employee ID  Rating Points Gender Diverse Origin?  UG Degree  UG GPA  \\\n",
       "0  100250922.0          68.91    NaN              No  Education    3.68   \n",
       "\n",
       "  Grad Degree Resume Screen Score Phone Screen Score  \\\n",
       "0         NaN         3-RECOMMEND        3-RECOMMEND   \n",
       "\n",
       "  Phone Screen Score - Responsibility ... Low Income Teach Experience  \\\n",
       "0                         3-RECOMMEND ...                        f) 4   \n",
       "\n",
       "  Youth Experience Self-Described Phrase Self-Described Phrase.1  \\\n",
       "0            g) 5+          Avid Learner                Creative   \n",
       "\n",
       "  Self-Described Phrase.2 Self-Described Phrase.3 Self-Described Phrase.4  \\\n",
       "0             Data Driven                  Leader              Innovative   \n",
       "\n",
       "   year month day  \n",
       "0  2015     1   8  \n",
       "\n",
       "[1 rows x 34 columns]"
      ]
     },
     "execution_count": 661,
     "metadata": {},
     "output_type": "execute_result"
    }
   ],
   "source": [
    "original_train_df.head(1)"
   ]
  },
  {
   "cell_type": "markdown",
   "metadata": {},
   "source": [
    "#### Delete Rating Points NA"
   ]
  },
  {
   "cell_type": "markdown",
   "metadata": {},
   "source": [
    "Lastly, we need to get rid of observations that we don't have Rating Points on. Let's do so before we go on to training."
   ]
  },
  {
   "cell_type": "code",
   "execution_count": 662,
   "metadata": {},
   "outputs": [
    {
     "data": {
      "text/plain": [
       "61"
      ]
     },
     "execution_count": 662,
     "metadata": {},
     "output_type": "execute_result"
    }
   ],
   "source": [
    "sum(train_df['Rating Points'].isnull())"
   ]
  },
  {
   "cell_type": "code",
   "execution_count": 663,
   "metadata": {
    "collapsed": true
   },
   "outputs": [],
   "source": [
    "train_df_complete_cases = train_df[pd.notnull(train_df['Rating Points'])]"
   ]
  },
  {
   "cell_type": "markdown",
   "metadata": {},
   "source": [
    "Things seem to have gone well. Let's move on for now:"
   ]
  },
  {
   "cell_type": "markdown",
   "metadata": {},
   "source": [
    "### Create ML training dataframe"
   ]
  },
  {
   "cell_type": "code",
   "execution_count": 664,
   "metadata": {
    "collapsed": true
   },
   "outputs": [],
   "source": [
    "train_df_to_pop = train_df_complete_cases"
   ]
  },
  {
   "cell_type": "code",
   "execution_count": 665,
   "metadata": {},
   "outputs": [],
   "source": [
    "full_y_train = train_df_to_pop.pop('Rating Points')"
   ]
  },
  {
   "cell_type": "code",
   "execution_count": 666,
   "metadata": {},
   "outputs": [],
   "source": [
    "full_x_train = train_df_to_pop.drop('Employee ID', axis = 1)"
   ]
  },
  {
   "cell_type": "code",
   "execution_count": 667,
   "metadata": {},
   "outputs": [],
   "source": [
    "x_train, x_validation, y_train, y_validation = train_test_split(full_x_train, full_y_train, test_size=0.25)"
   ]
  },
  {
   "cell_type": "code",
   "execution_count": 668,
   "metadata": {},
   "outputs": [
    {
     "name": "stdout",
     "output_type": "stream",
     "text": [
      "x_train shape is (806, 32)\n",
      "x_validation shape is (269, 32)\n"
     ]
    }
   ],
   "source": [
    "print('x_train shape is {}'.format(x_train.shape))\n",
    "print('x_validation shape is {}'.format(x_validation.shape))"
   ]
  },
  {
   "cell_type": "markdown",
   "metadata": {},
   "source": [
    "## Train ML model"
   ]
  },
  {
   "cell_type": "code",
   "execution_count": 669,
   "metadata": {
    "collapsed": true
   },
   "outputs": [],
   "source": [
    "# Set baseline prediction:\n",
    "y_mean = np.mean(full_y_train)"
   ]
  },
  {
   "cell_type": "code",
   "execution_count": 670,
   "metadata": {},
   "outputs": [
    {
     "name": "stdout",
     "output_type": "stream",
     "text": [
      "[0]\ttrain-mae:6.47843\ttest-mae:6.54551\n",
      "[100]\ttrain-mae:2.72605\ttest-mae:6.16211\n",
      "[200]\ttrain-mae:1.35972\ttest-mae:5.95761\n",
      "[300]\ttrain-mae:0.714598\ttest-mae:5.85595\n",
      "[400]\ttrain-mae:0.381329\ttest-mae:5.80424\n",
      "[500]\ttrain-mae:0.210091\ttest-mae:5.77271\n",
      "[600]\ttrain-mae:0.118091\ttest-mae:5.75437\n",
      "[700]\ttrain-mae:0.0674318\ttest-mae:5.74208\n",
      "[800]\ttrain-mae:0.0381552\ttest-mae:5.736\n",
      "[900]\ttrain-mae:0.0217292\ttest-mae:5.73231\n",
      "[1000]\ttrain-mae:0.0124534\ttest-mae:5.73006\n",
      "[1100]\ttrain-mae:0.0071654\ttest-mae:5.72874\n",
      "[1200]\ttrain-mae:0.0041936\ttest-mae:5.72802\n",
      "[1300]\ttrain-mae:0.0024578\ttest-mae:5.72766\n",
      "[1400]\ttrain-mae:0.001428\ttest-mae:5.72742\n",
      "[1500]\ttrain-mae:0.0008432\ttest-mae:5.72727\n",
      "[1600]\ttrain-mae:0.0005318\ttest-mae:5.7272\n",
      "[1700]\ttrain-mae:0.0004514\ttest-mae:5.72718\n",
      "[1800]\ttrain-mae:0.0004248\ttest-mae:5.72717\n",
      "[1900]\ttrain-mae:0.0004136\ttest-mae:5.72717\n",
      "[2000]\ttrain-mae:0.0004044\ttest-mae:5.72716\n"
     ]
    }
   ],
   "source": [
    "# XGB\n",
    "# xgboost params\n",
    "xgb_params = {\n",
    "    'eta': 0.06,\n",
    "    'max_depth': 5,\n",
    "    'subsample': 0.75,\n",
    "    'objective': 'reg:linear',\n",
    "    'eval_metric': 'mae',\n",
    "    'base_score': y_mean,\n",
    "    'silent': 1\n",
    "}\n",
    "\n",
    "dtrain = xgb.DMatrix(x_train, y_train)\n",
    "dtest = xgb.DMatrix(x_validation)\n",
    "\n",
    "# cross-validation\n",
    "cv_result = xgb.cv(xgb_params, \n",
    "                   dtrain, \n",
    "                   nfold=5,\n",
    "                   num_boost_round=5000,\n",
    "                   early_stopping_rounds=50,\n",
    "                   verbose_eval=100, \n",
    "                   show_stdv=False\n",
    "                  )"
   ]
  },
  {
   "cell_type": "code",
   "execution_count": 671,
   "metadata": {},
   "outputs": [
    {
     "name": "stdout",
     "output_type": "stream",
     "text": [
      "2020\n"
     ]
    }
   ],
   "source": [
    "num_boost_rounds = len(cv_result)\n",
    "print(num_boost_rounds)"
   ]
  },
  {
   "cell_type": "code",
   "execution_count": 672,
   "metadata": {},
   "outputs": [],
   "source": [
    "# train model\n",
    "model = xgb.train(dict(xgb_params, silent=1), dtrain, num_boost_round=num_boost_rounds)\n",
    "pred = model.predict(dtest)"
   ]
  },
  {
   "cell_type": "code",
   "execution_count": 673,
   "metadata": {},
   "outputs": [],
   "source": [
    "y_pred = []\n",
    "for i,predict in enumerate(pred):\n",
    "    y_pred.append(str(round(predict,2)))"
   ]
  },
  {
   "cell_type": "code",
   "execution_count": 674,
   "metadata": {},
   "outputs": [
    {
     "data": {
      "text/html": [
       "<div>\n",
       "<style>\n",
       "    .dataframe thead tr:only-child th {\n",
       "        text-align: right;\n",
       "    }\n",
       "\n",
       "    .dataframe thead th {\n",
       "        text-align: left;\n",
       "    }\n",
       "\n",
       "    .dataframe tbody tr th {\n",
       "        vertical-align: top;\n",
       "    }\n",
       "</style>\n",
       "<table border=\"1\" class=\"dataframe\">\n",
       "  <thead>\n",
       "    <tr style=\"text-align: right;\">\n",
       "      <th></th>\n",
       "      <th>predictions</th>\n",
       "      <th>truth</th>\n",
       "    </tr>\n",
       "  </thead>\n",
       "  <tbody>\n",
       "    <tr>\n",
       "      <th>1018</th>\n",
       "      <td>73.04</td>\n",
       "      <td>73.04</td>\n",
       "    </tr>\n",
       "    <tr>\n",
       "      <th>66</th>\n",
       "      <td>76.96</td>\n",
       "      <td>69.12</td>\n",
       "    </tr>\n",
       "    <tr>\n",
       "      <th>812</th>\n",
       "      <td>70.92</td>\n",
       "      <td>69.05</td>\n",
       "    </tr>\n",
       "    <tr>\n",
       "      <th>614</th>\n",
       "      <td>74.14</td>\n",
       "      <td>76.80</td>\n",
       "    </tr>\n",
       "    <tr>\n",
       "      <th>533</th>\n",
       "      <td>77.7</td>\n",
       "      <td>76.08</td>\n",
       "    </tr>\n",
       "    <tr>\n",
       "      <th>659</th>\n",
       "      <td>65.25</td>\n",
       "      <td>80.27</td>\n",
       "    </tr>\n",
       "    <tr>\n",
       "      <th>199</th>\n",
       "      <td>98.12</td>\n",
       "      <td>98.12</td>\n",
       "    </tr>\n",
       "    <tr>\n",
       "      <th>905</th>\n",
       "      <td>74.18</td>\n",
       "      <td>72.20</td>\n",
       "    </tr>\n",
       "    <tr>\n",
       "      <th>919</th>\n",
       "      <td>72.26</td>\n",
       "      <td>75.47</td>\n",
       "    </tr>\n",
       "    <tr>\n",
       "      <th>889</th>\n",
       "      <td>80.11</td>\n",
       "      <td>80.11</td>\n",
       "    </tr>\n",
       "  </tbody>\n",
       "</table>\n",
       "</div>"
      ],
      "text/plain": [
       "     predictions  truth\n",
       "1018       73.04  73.04\n",
       "66         76.96  69.12\n",
       "812        70.92  69.05\n",
       "614        74.14  76.80\n",
       "533         77.7  76.08\n",
       "659        65.25  80.27\n",
       "199        98.12  98.12\n",
       "905        74.18  72.20\n",
       "919        72.26  75.47\n",
       "889        80.11  80.11"
      ]
     },
     "execution_count": 674,
     "metadata": {},
     "output_type": "execute_result"
    }
   ],
   "source": [
    "d = {'predictions': y_pred, 'truth': y_validation}\n",
    "results_df = pd.DataFrame(d)\n",
    "results_df.head(10)"
   ]
  },
  {
   "cell_type": "markdown",
   "metadata": {},
   "source": [
    "So it looks like the model did pretty well! To illustrate this some other way, let's do the following:"
   ]
  },
  {
   "cell_type": "code",
   "execution_count": 675,
   "metadata": {},
   "outputs": [
    {
     "data": {
      "text/plain": [
       "dtype('float64')"
      ]
     },
     "execution_count": 675,
     "metadata": {},
     "output_type": "execute_result"
    }
   ],
   "source": [
    "results_df['predictions'] = pd.to_numeric(results_df['predictions'])\n",
    "results_df['predictions'].dtype"
   ]
  },
  {
   "cell_type": "code",
   "execution_count": 676,
   "metadata": {},
   "outputs": [
    {
     "data": {
      "text/html": [
       "<div>\n",
       "<style>\n",
       "    .dataframe thead tr:only-child th {\n",
       "        text-align: right;\n",
       "    }\n",
       "\n",
       "    .dataframe thead th {\n",
       "        text-align: left;\n",
       "    }\n",
       "\n",
       "    .dataframe tbody tr th {\n",
       "        vertical-align: top;\n",
       "    }\n",
       "</style>\n",
       "<table border=\"1\" class=\"dataframe\">\n",
       "  <thead>\n",
       "    <tr style=\"text-align: right;\">\n",
       "      <th></th>\n",
       "      <th>predictions</th>\n",
       "      <th>truth</th>\n",
       "      <th>abs error</th>\n",
       "    </tr>\n",
       "  </thead>\n",
       "  <tbody>\n",
       "    <tr>\n",
       "      <th>1018</th>\n",
       "      <td>73.04</td>\n",
       "      <td>73.04</td>\n",
       "      <td>0.0</td>\n",
       "    </tr>\n",
       "  </tbody>\n",
       "</table>\n",
       "</div>"
      ],
      "text/plain": [
       "      predictions  truth  abs error\n",
       "1018        73.04  73.04        0.0"
      ]
     },
     "execution_count": 676,
     "metadata": {},
     "output_type": "execute_result"
    }
   ],
   "source": [
    "results_df['abs error'] = np.abs( results_df['predictions'] - results_df['truth'])\n",
    "results_df.head(1)"
   ]
  },
  {
   "cell_type": "code",
   "execution_count": 677,
   "metadata": {},
   "outputs": [
    {
     "data": {
      "text/plain": [
       "2.9000000000000057"
      ]
     },
     "execution_count": 677,
     "metadata": {},
     "output_type": "execute_result"
    }
   ],
   "source": [
    "results_df['abs error'].median()"
   ]
  },
  {
   "cell_type": "markdown",
   "metadata": {
    "variables": {
     "results_df['abs error'].median()": "2.9000000000000057",
     "y_validation.shape[0]": "269"
    }
   },
   "source": [
    "The above tells us that for the {{y_validation.shape[0]}} teachers for whom we tried to predict \"Rating Points\", we were able to predict the rating -- given their application information alone -- and come, typically, within {{results_df['abs error'].median()}} points of their actual rating."
   ]
  },
  {
   "cell_type": "markdown",
   "metadata": {},
   "source": [
    "## Answer questions"
   ]
  },
  {
   "cell_type": "markdown",
   "metadata": {},
   "source": [
    "We were tasked with answering these questions:\n",
    "\n",
    "\n",
    "1. What applicant information best predicts effectiveness?\n",
    "    1. What did you choose as your outcome variable? Why?\n",
    "2. What (if any) pieces of data do you wish was collected? \n",
    "    1. Is there a way to use existing data to approximate the effects of this data?\n",
    "3. What (if any) challenges existed with using and interpreting information from this data set? \n",
    "    1. How did you resolve these challenges?\n",
    "4. What recommendations would you give to a school district based on these results?"
   ]
  },
  {
   "cell_type": "markdown",
   "metadata": {},
   "source": [
    "### 1. What applicant information best predicts effectiveness?"
   ]
  },
  {
   "cell_type": "markdown",
   "metadata": {},
   "source": [
    "Random forest models can product feature scores, which show us which variables were most often split upon and therefore of use to the model. A useful split is one that, when split upon, leads to relatively 'pure' resulting nodes. So using this metric of feature importance (generated from features that were often split upon) is useful, but perhaps not the ideal way to identify the single characteristics of applicants that most predict success. Instead, this model is likely better at, in sum, predicting applicant success. Trying to tease out individual features must be taken with an acknowledgement that these feature rankings are not iron clad rules.\n",
    "\n",
    "So the following analysis searches for individual characteristics that best predict effectiveness, with the cautionary note that the applicant information that best predicts effectiveness is that which we recieved (all the data), when combined withthe random forest model that was implemented. "
   ]
  },
  {
   "cell_type": "code",
   "execution_count": 678,
   "metadata": {},
   "outputs": [
    {
     "data": {
      "image/png": "[encoded data removed]",
      "text/plain": [
       "<matplotlib.figure.Figure at 0x11c0eeba8>"
      ]
     },
     "metadata": {},
     "output_type": "display_data"
    }
   ],
   "source": [
    "# Let's use the plot f_score XGB feature to see what variable split occurred most.\n",
    "fig, ax = plt.subplots(figsize=(12,18))\n",
    "xgb.plot_importance(model, max_num_features=50, height=0.8, ax=ax)\n",
    "plt.show()"
   ]
  },
  {
   "cell_type": "markdown",
   "metadata": {},
   "source": [
    "Weird. Day of the application is most important. Why? Then their self descriptions, and then UG major. According to our random forest model, these features are important predictors.\n",
    "\n",
    "You can read down the chart, with the most predictive variables coming at the top, and the least predictive at the bottom (e.g. 'Phone Screen Score - Communication' was shown to not be predictive, according to our model)."
   ]
  },
  {
   "cell_type": "markdown",
   "metadata": {},
   "source": [
    "### 2. What (if any) pieces of data do you wish was collected?"
   ]
  },
  {
   "cell_type": "markdown",
   "metadata": {},
   "source": [
    "I am a data scientist. I'd love more data!\n",
    "\n",
    "- References from previous schools\n",
    "- Letters of recommendation\n",
    "- Student data from previous schools\n",
    "- Sample lesson of theirs. Either in written form, or ideally, video and audio footage of their classroom work. \n",
    "- Free response writing on essay prompts. For example: \"Why do you want to work at our school?\" I don't know which essay prompts would be predictive, but we could mine data to refine this part of the application over time.\n",
    "\n",
    "In general, the data scientist in me is a bit agnostic. Give me as much data as possible and we'll let the data and algorithms search for patters.\n",
    "\n",
    "The teacher in me, though, says that info that gets at the following is most important:\n",
    "\n",
    "- How have they helped students in past? (e.g. Test score improvement data from past)\n",
    "- Reviews (e.g. From students and teacher observations)\n",
    "- Personal traits (e.g. Do they have passion for working with young people, energy, and communication skills?)"
   ]
  },
  {
   "cell_type": "markdown",
   "metadata": {},
   "source": [
    "We perhaps could have made used the given data to approximate intermediate rankings (for example, combine GPA and major to derive some sort of 'rigor' ranking), but I think that from a prediction perspective, this is not neccessary. \n",
    "\n",
    "However, if the goal is model interpretation, then perhaps doing this sort of combination of features to generate a few scores for the applicant along key dimensions would have use."
   ]
  },
  {
   "cell_type": "markdown",
   "metadata": {},
   "source": [
    "### 3. What (if any) challenges existed with using and interpreting information from this data set? "
   ]
  },
  {
   "cell_type": "markdown",
   "metadata": {},
   "source": [
    "1. No data dictionary given. So I did not have full understanding of the variables. A good data scientist's work is only as effective as the data is complete, and in this case I really had no idea of the integrity of the data with which I was working. What each column really meant was not always clear and needed to be inferred by me.\n",
    "2. I used Rating Points as my outcome of choice...where did this come from? If, presumably, it was some combination of the other assessment scores, how was it combined, and what inter-rater reliability is there for this data (e.g. does one teacher's score of a 80 mean the same as an 80 for another teacher)?\n",
    "\n",
    "\n",
    "I resolved this by making assumptions, given the context of the data.\n",
    "3. The qualititive nature made it harder to derive tangible recommendations for the school district in terms of what specific qualities they ought to search for.\n",
    "\n",
    "I resolved this by relying upon a mix of sophisticated and basic ML tools. The forest learning algorithm gives some sense of feature importance, but I then combined this with manual inspection of 'Rating Points' means to hint at what feature values are most predictive of teacher success.\n",
    "\n"
   ]
  },
  {
   "cell_type": "markdown",
   "metadata": {},
   "source": [
    "### 4. What recommendations would you give to a school district based on these results?"
   ]
  },
  {
   "cell_type": "markdown",
   "metadata": {},
   "source": [
    "We saw above that things like day, self description, and undergrad major responses matter. Let's dig deeper to see what responses were the good ones."
   ]
  },
  {
   "cell_type": "markdown",
   "metadata": {},
   "source": [
    "#### Day (???)"
   ]
  },
  {
   "cell_type": "markdown",
   "metadata": {},
   "source": [
    "It doesn't really make sense that day of application should make a difference..."
   ]
  },
  {
   "cell_type": "code",
   "execution_count": 679,
   "metadata": {},
   "outputs": [
    {
     "data": {
      "text/html": [
       "<div>\n",
       "<style>\n",
       "    .dataframe thead tr:only-child th {\n",
       "        text-align: right;\n",
       "    }\n",
       "\n",
       "    .dataframe thead th {\n",
       "        text-align: left;\n",
       "    }\n",
       "\n",
       "    .dataframe tbody tr th {\n",
       "        vertical-align: top;\n",
       "    }\n",
       "</style>\n",
       "<table border=\"1\" class=\"dataframe\">\n",
       "  <thead>\n",
       "    <tr style=\"text-align: right;\">\n",
       "      <th></th>\n",
       "      <th>day</th>\n",
       "      <th>Rating Points</th>\n",
       "    </tr>\n",
       "  </thead>\n",
       "  <tbody>\n",
       "    <tr>\n",
       "      <th>20</th>\n",
       "      <td>21</td>\n",
       "      <td>75.039677</td>\n",
       "    </tr>\n",
       "    <tr>\n",
       "      <th>15</th>\n",
       "      <td>16</td>\n",
       "      <td>74.760250</td>\n",
       "    </tr>\n",
       "    <tr>\n",
       "      <th>27</th>\n",
       "      <td>28</td>\n",
       "      <td>74.586818</td>\n",
       "    </tr>\n",
       "    <tr>\n",
       "      <th>16</th>\n",
       "      <td>17</td>\n",
       "      <td>74.505111</td>\n",
       "    </tr>\n",
       "    <tr>\n",
       "      <th>10</th>\n",
       "      <td>11</td>\n",
       "      <td>74.462778</td>\n",
       "    </tr>\n",
       "  </tbody>\n",
       "</table>\n",
       "</div>"
      ],
      "text/plain": [
       "    day  Rating Points\n",
       "20   21      75.039677\n",
       "15   16      74.760250\n",
       "27   28      74.586818\n",
       "16   17      74.505111\n",
       "10   11      74.462778"
      ]
     },
     "execution_count": 679,
     "metadata": {},
     "output_type": "execute_result"
    }
   ],
   "source": [
    "# Filter original df by the most common degrees:\n",
    "day_ranking = pd.DataFrame(original_train_df.groupby('day').mean()['Rating Points']).reset_index()\n",
    "day_ranking.sort_values(by='Rating Points',ascending = False).head()"
   ]
  },
  {
   "cell_type": "code",
   "execution_count": 680,
   "metadata": {},
   "outputs": [
    {
     "data": {
      "text/plain": [
       "<matplotlib.axes._subplots.AxesSubplot at 0x11b5ceb70>"
      ]
     },
     "execution_count": 680,
     "metadata": {},
     "output_type": "execute_result"
    },
    {
     "data": {
      "image/png": "[encoded data removed]",
      "text/plain": [
       "<matplotlib.figure.Figure at 0x11b5f3240>"
      ]
     },
     "metadata": {},
     "output_type": "display_data"
    }
   ],
   "source": [
    "sns.regplot(x='day', y='Rating Points', data = day_ranking, fit_reg=False)"
   ]
  },
  {
   "cell_type": "markdown",
   "metadata": {},
   "source": [
    "And indeed this scatterplot doesn't show me much of a pattern. Let's move on for now. "
   ]
  },
  {
   "cell_type": "markdown",
   "metadata": {},
   "source": [
    "#### Undergrad degree"
   ]
  },
  {
   "cell_type": "code",
   "execution_count": 681,
   "metadata": {},
   "outputs": [
    {
     "data": {
      "text/html": [
       "<div>\n",
       "<style>\n",
       "    .dataframe thead tr:only-child th {\n",
       "        text-align: right;\n",
       "    }\n",
       "\n",
       "    .dataframe thead th {\n",
       "        text-align: left;\n",
       "    }\n",
       "\n",
       "    .dataframe tbody tr th {\n",
       "        vertical-align: top;\n",
       "    }\n",
       "</style>\n",
       "<table border=\"1\" class=\"dataframe\">\n",
       "  <thead>\n",
       "    <tr style=\"text-align: right;\">\n",
       "      <th></th>\n",
       "      <th>UG Degree</th>\n",
       "      <th>Rating Points</th>\n",
       "    </tr>\n",
       "  </thead>\n",
       "  <tbody>\n",
       "    <tr>\n",
       "      <th>7</th>\n",
       "      <td>Not applicable</td>\n",
       "      <td>73.652371</td>\n",
       "    </tr>\n",
       "    <tr>\n",
       "      <th>10</th>\n",
       "      <td>Physical Sciences</td>\n",
       "      <td>73.334667</td>\n",
       "    </tr>\n",
       "    <tr>\n",
       "      <th>9</th>\n",
       "      <td>Other Degree</td>\n",
       "      <td>72.892368</td>\n",
       "    </tr>\n",
       "    <tr>\n",
       "      <th>4</th>\n",
       "      <td>Foreign Language</td>\n",
       "      <td>72.844828</td>\n",
       "    </tr>\n",
       "    <tr>\n",
       "      <th>11</th>\n",
       "      <td>Social Science</td>\n",
       "      <td>72.702059</td>\n",
       "    </tr>\n",
       "  </tbody>\n",
       "</table>\n",
       "</div>"
      ],
      "text/plain": [
       "            UG Degree  Rating Points\n",
       "7      Not applicable      73.652371\n",
       "10  Physical Sciences      73.334667\n",
       "9        Other Degree      72.892368\n",
       "4    Foreign Language      72.844828\n",
       "11     Social Science      72.702059"
      ]
     },
     "execution_count": 681,
     "metadata": {},
     "output_type": "execute_result"
    }
   ],
   "source": [
    "# Filter original df by the most common degrees:\n",
    "degree_ranking = pd.DataFrame(original_train_df.groupby('UG Degree').mean()['Rating Points']).reset_index()\n",
    "degree_ranking.sort_values(by='Rating Points',ascending = False).head()"
   ]
  },
  {
   "cell_type": "code",
   "execution_count": 682,
   "metadata": {
    "collapsed": true
   },
   "outputs": [],
   "source": [
    "top_degrees = degree_ranking.sort_values(by='Rating Points',ascending = False)[0:10]"
   ]
  },
  {
   "cell_type": "code",
   "execution_count": 683,
   "metadata": {
    "scrolled": true
   },
   "outputs": [
    {
     "data": {
      "text/html": [
       "<div>\n",
       "<style>\n",
       "    .dataframe thead tr:only-child th {\n",
       "        text-align: right;\n",
       "    }\n",
       "\n",
       "    .dataframe thead th {\n",
       "        text-align: left;\n",
       "    }\n",
       "\n",
       "    .dataframe tbody tr th {\n",
       "        vertical-align: top;\n",
       "    }\n",
       "</style>\n",
       "<table border=\"1\" class=\"dataframe\">\n",
       "  <thead>\n",
       "    <tr style=\"text-align: right;\">\n",
       "      <th></th>\n",
       "      <th>UG Degree</th>\n",
       "      <th>Rating Points</th>\n",
       "    </tr>\n",
       "  </thead>\n",
       "  <tbody>\n",
       "    <tr>\n",
       "      <th>7</th>\n",
       "      <td>Not applicable</td>\n",
       "      <td>73.652371</td>\n",
       "    </tr>\n",
       "    <tr>\n",
       "      <th>10</th>\n",
       "      <td>Physical Sciences</td>\n",
       "      <td>73.334667</td>\n",
       "    </tr>\n",
       "    <tr>\n",
       "      <th>9</th>\n",
       "      <td>Other Degree</td>\n",
       "      <td>72.892368</td>\n",
       "    </tr>\n",
       "    <tr>\n",
       "      <th>4</th>\n",
       "      <td>Foreign Language</td>\n",
       "      <td>72.844828</td>\n",
       "    </tr>\n",
       "    <tr>\n",
       "      <th>11</th>\n",
       "      <td>Social Science</td>\n",
       "      <td>72.702059</td>\n",
       "    </tr>\n",
       "    <tr>\n",
       "      <th>2</th>\n",
       "      <td>Education</td>\n",
       "      <td>72.445203</td>\n",
       "    </tr>\n",
       "    <tr>\n",
       "      <th>3</th>\n",
       "      <td>English</td>\n",
       "      <td>72.408885</td>\n",
       "    </tr>\n",
       "    <tr>\n",
       "      <th>0</th>\n",
       "      <td>Art</td>\n",
       "      <td>72.254103</td>\n",
       "    </tr>\n",
       "    <tr>\n",
       "      <th>1</th>\n",
       "      <td>Business</td>\n",
       "      <td>71.939000</td>\n",
       "    </tr>\n",
       "    <tr>\n",
       "      <th>5</th>\n",
       "      <td>Math</td>\n",
       "      <td>71.814545</td>\n",
       "    </tr>\n",
       "  </tbody>\n",
       "</table>\n",
       "</div>"
      ],
      "text/plain": [
       "            UG Degree  Rating Points\n",
       "7      Not applicable      73.652371\n",
       "10  Physical Sciences      73.334667\n",
       "9        Other Degree      72.892368\n",
       "4    Foreign Language      72.844828\n",
       "11     Social Science      72.702059\n",
       "2           Education      72.445203\n",
       "3             English      72.408885\n",
       "0                 Art      72.254103\n",
       "1            Business      71.939000\n",
       "5                Math      71.814545"
      ]
     },
     "execution_count": 683,
     "metadata": {},
     "output_type": "execute_result"
    }
   ],
   "source": [
    "top_degrees"
   ]
  },
  {
   "cell_type": "code",
   "execution_count": 684,
   "metadata": {},
   "outputs": [],
   "source": [
    "x = original_train_df[original_train_df['UG Degree'].isin(set(top_degrees['UG Degree']))]     "
   ]
  },
  {
   "cell_type": "code",
   "execution_count": 685,
   "metadata": {},
   "outputs": [
    {
     "name": "stderr",
     "output_type": "stream",
     "text": [
      "/Users/wnowak/anaconda/envs/py35/lib/python3.5/site-packages/seaborn/categorical.py:342: DeprecationWarning: pandas.core.common.is_categorical_dtype is deprecated. import from the public API: pandas.api.types.is_categorical_dtype instead\n",
      "  elif is_categorical(y):\n"
     ]
    },
    {
     "data": {
      "text/plain": [
       "(array([0, 1, 2, 3, 4, 5, 6, 7, 8, 9]), <a list of 10 Text xticklabel objects>)"
      ]
     },
     "execution_count": 685,
     "metadata": {},
     "output_type": "execute_result"
    },
    {
     "data": {
      "image/png": "[encoded data removed]",
      "text/plain": [
       "<matplotlib.figure.Figure at 0x11c0f6d30>"
      ]
     },
     "metadata": {},
     "output_type": "display_data"
    }
   ],
   "source": [
    "fig, ax = plt.subplots(figsize=(8,10))\n",
    "g = sns.boxplot(x='UG Degree', y=\"Rating Points\", data=x)\n",
    "plt.xticks(rotation=45)"
   ]
  },
  {
   "cell_type": "markdown",
   "metadata": {},
   "source": [
    "Without a ton of confidence, perhaps we have evidence to look for Physical Sciences majors."
   ]
  },
  {
   "cell_type": "markdown",
   "metadata": {},
   "source": [
    "#### Self described phrase"
   ]
  },
  {
   "cell_type": "code",
   "execution_count": 688,
   "metadata": {},
   "outputs": [
    {
     "data": {
      "text/html": [
       "<div>\n",
       "<style>\n",
       "    .dataframe thead tr:only-child th {\n",
       "        text-align: right;\n",
       "    }\n",
       "\n",
       "    .dataframe thead th {\n",
       "        text-align: left;\n",
       "    }\n",
       "\n",
       "    .dataframe tbody tr th {\n",
       "        vertical-align: top;\n",
       "    }\n",
       "</style>\n",
       "<table border=\"1\" class=\"dataframe\">\n",
       "  <thead>\n",
       "    <tr style=\"text-align: right;\">\n",
       "      <th></th>\n",
       "      <th>Self-Described Phrase.1</th>\n",
       "      <th>Rating Points</th>\n",
       "    </tr>\n",
       "  </thead>\n",
       "  <tbody>\n",
       "    <tr>\n",
       "      <th>27</th>\n",
       "      <td>Primary Elem Exp</td>\n",
       "      <td>78.490000</td>\n",
       "    </tr>\n",
       "    <tr>\n",
       "      <th>33</th>\n",
       "      <td>Upper Elem Exp</td>\n",
       "      <td>75.143750</td>\n",
       "    </tr>\n",
       "    <tr>\n",
       "      <th>25</th>\n",
       "      <td>Patient</td>\n",
       "      <td>75.068750</td>\n",
       "    </tr>\n",
       "    <tr>\n",
       "      <th>4</th>\n",
       "      <td>Content Knowledge Expert</td>\n",
       "      <td>74.977000</td>\n",
       "    </tr>\n",
       "    <tr>\n",
       "      <th>32</th>\n",
       "      <td>Risk Taker</td>\n",
       "      <td>74.820000</td>\n",
       "    </tr>\n",
       "    <tr>\n",
       "      <th>15</th>\n",
       "      <td>Flexible</td>\n",
       "      <td>74.662813</td>\n",
       "    </tr>\n",
       "    <tr>\n",
       "      <th>31</th>\n",
       "      <td>Relationship Builder</td>\n",
       "      <td>74.427593</td>\n",
       "    </tr>\n",
       "    <tr>\n",
       "      <th>6</th>\n",
       "      <td>Data Driven</td>\n",
       "      <td>74.016154</td>\n",
       "    </tr>\n",
       "    <tr>\n",
       "      <th>11</th>\n",
       "      <td>Encouraging</td>\n",
       "      <td>73.271389</td>\n",
       "    </tr>\n",
       "    <tr>\n",
       "      <th>14</th>\n",
       "      <td>Experience with ELLs</td>\n",
       "      <td>73.010526</td>\n",
       "    </tr>\n",
       "    <tr>\n",
       "      <th>0</th>\n",
       "      <td>Avid Learner</td>\n",
       "      <td>72.889211</td>\n",
       "    </tr>\n",
       "    <tr>\n",
       "      <th>7</th>\n",
       "      <td>Dedicated</td>\n",
       "      <td>72.849735</td>\n",
       "    </tr>\n",
       "    <tr>\n",
       "      <th>9</th>\n",
       "      <td>Disciplined</td>\n",
       "      <td>72.816190</td>\n",
       "    </tr>\n",
       "    <tr>\n",
       "      <th>12</th>\n",
       "      <td>Energetic</td>\n",
       "      <td>72.791600</td>\n",
       "    </tr>\n",
       "    <tr>\n",
       "      <th>18</th>\n",
       "      <td>Innovative</td>\n",
       "      <td>72.630000</td>\n",
       "    </tr>\n",
       "    <tr>\n",
       "      <th>26</th>\n",
       "      <td>Positive</td>\n",
       "      <td>72.612500</td>\n",
       "    </tr>\n",
       "    <tr>\n",
       "      <th>23</th>\n",
       "      <td>Organized</td>\n",
       "      <td>72.503571</td>\n",
       "    </tr>\n",
       "    <tr>\n",
       "      <th>29</th>\n",
       "      <td>Reflective</td>\n",
       "      <td>72.475000</td>\n",
       "    </tr>\n",
       "    <tr>\n",
       "      <th>8</th>\n",
       "      <td>Detail Oriented</td>\n",
       "      <td>72.468966</td>\n",
       "    </tr>\n",
       "    <tr>\n",
       "      <th>3</th>\n",
       "      <td>Confident</td>\n",
       "      <td>72.460408</td>\n",
       "    </tr>\n",
       "  </tbody>\n",
       "</table>\n",
       "</div>"
      ],
      "text/plain": [
       "     Self-Described Phrase.1  Rating Points\n",
       "27          Primary Elem Exp      78.490000\n",
       "33            Upper Elem Exp      75.143750\n",
       "25                   Patient      75.068750\n",
       "4   Content Knowledge Expert      74.977000\n",
       "32                Risk Taker      74.820000\n",
       "15                  Flexible      74.662813\n",
       "31      Relationship Builder      74.427593\n",
       "6                Data Driven      74.016154\n",
       "11               Encouraging      73.271389\n",
       "14      Experience with ELLs      73.010526\n",
       "0               Avid Learner      72.889211\n",
       "7                  Dedicated      72.849735\n",
       "9                Disciplined      72.816190\n",
       "12                 Energetic      72.791600\n",
       "18                Innovative      72.630000\n",
       "26                  Positive      72.612500\n",
       "23                 Organized      72.503571\n",
       "29                Reflective      72.475000\n",
       "8            Detail Oriented      72.468966\n",
       "3                  Confident      72.460408"
      ]
     },
     "execution_count": 688,
     "metadata": {},
     "output_type": "execute_result"
    }
   ],
   "source": [
    "# Filter original df by the most common degrees:\n",
    "self_described = pd.DataFrame(original_train_df.groupby('Self-Described Phrase.1').mean()['Rating Points']).reset_index()\n",
    "self_described.sort_values(by='Rating Points',ascending = False).head(20)"
   ]
  },
  {
   "cell_type": "markdown",
   "metadata": {},
   "source": [
    "Given that self description is important, and these are correlated with high scores, I'd encourage schools to seek applicants with these self descriptions (above). "
   ]
  },
  {
   "cell_type": "code",
   "execution_count": 689,
   "metadata": {},
   "outputs": [
    {
     "data": {
      "text/html": [
       "<div>\n",
       "<style>\n",
       "    .dataframe thead tr:only-child th {\n",
       "        text-align: right;\n",
       "    }\n",
       "\n",
       "    .dataframe thead th {\n",
       "        text-align: left;\n",
       "    }\n",
       "\n",
       "    .dataframe tbody tr th {\n",
       "        vertical-align: top;\n",
       "    }\n",
       "</style>\n",
       "<table border=\"1\" class=\"dataframe\">\n",
       "  <thead>\n",
       "    <tr style=\"text-align: right;\">\n",
       "      <th></th>\n",
       "      <th>Self-Described Phrase.1</th>\n",
       "      <th>Rating Points</th>\n",
       "    </tr>\n",
       "  </thead>\n",
       "  <tbody>\n",
       "    <tr>\n",
       "      <th>18</th>\n",
       "      <td>Innovative</td>\n",
       "      <td>72.630000</td>\n",
       "    </tr>\n",
       "    <tr>\n",
       "      <th>26</th>\n",
       "      <td>Positive</td>\n",
       "      <td>72.612500</td>\n",
       "    </tr>\n",
       "    <tr>\n",
       "      <th>23</th>\n",
       "      <td>Organized</td>\n",
       "      <td>72.503571</td>\n",
       "    </tr>\n",
       "    <tr>\n",
       "      <th>29</th>\n",
       "      <td>Reflective</td>\n",
       "      <td>72.475000</td>\n",
       "    </tr>\n",
       "    <tr>\n",
       "      <th>8</th>\n",
       "      <td>Detail Oriented</td>\n",
       "      <td>72.468966</td>\n",
       "    </tr>\n",
       "    <tr>\n",
       "      <th>3</th>\n",
       "      <td>Confident</td>\n",
       "      <td>72.460408</td>\n",
       "    </tr>\n",
       "    <tr>\n",
       "      <th>1</th>\n",
       "      <td>Avid Listener</td>\n",
       "      <td>72.285714</td>\n",
       "    </tr>\n",
       "    <tr>\n",
       "      <th>16</th>\n",
       "      <td>Funny</td>\n",
       "      <td>72.272857</td>\n",
       "    </tr>\n",
       "    <tr>\n",
       "      <th>22</th>\n",
       "      <td>Open-Minded</td>\n",
       "      <td>71.931600</td>\n",
       "    </tr>\n",
       "    <tr>\n",
       "      <th>13</th>\n",
       "      <td>Engaged</td>\n",
       "      <td>71.573333</td>\n",
       "    </tr>\n",
       "    <tr>\n",
       "      <th>20</th>\n",
       "      <td>Leader</td>\n",
       "      <td>71.189655</td>\n",
       "    </tr>\n",
       "    <tr>\n",
       "      <th>24</th>\n",
       "      <td>Passionate</td>\n",
       "      <td>71.115385</td>\n",
       "    </tr>\n",
       "    <tr>\n",
       "      <th>2</th>\n",
       "      <td>Community Focused</td>\n",
       "      <td>71.004043</td>\n",
       "    </tr>\n",
       "    <tr>\n",
       "      <th>10</th>\n",
       "      <td>Eager</td>\n",
       "      <td>70.855000</td>\n",
       "    </tr>\n",
       "    <tr>\n",
       "      <th>30</th>\n",
       "      <td>Relatable</td>\n",
       "      <td>70.755000</td>\n",
       "    </tr>\n",
       "    <tr>\n",
       "      <th>19</th>\n",
       "      <td>Inspiring</td>\n",
       "      <td>70.432857</td>\n",
       "    </tr>\n",
       "    <tr>\n",
       "      <th>21</th>\n",
       "      <td>Multi-Tasker</td>\n",
       "      <td>69.187778</td>\n",
       "    </tr>\n",
       "    <tr>\n",
       "      <th>5</th>\n",
       "      <td>Creative</td>\n",
       "      <td>69.132118</td>\n",
       "    </tr>\n",
       "    <tr>\n",
       "      <th>17</th>\n",
       "      <td>Humble</td>\n",
       "      <td>67.811667</td>\n",
       "    </tr>\n",
       "    <tr>\n",
       "      <th>28</th>\n",
       "      <td>Problem Solver</td>\n",
       "      <td>66.612308</td>\n",
       "    </tr>\n",
       "  </tbody>\n",
       "</table>\n",
       "</div>"
      ],
      "text/plain": [
       "   Self-Described Phrase.1  Rating Points\n",
       "18              Innovative      72.630000\n",
       "26                Positive      72.612500\n",
       "23               Organized      72.503571\n",
       "29              Reflective      72.475000\n",
       "8          Detail Oriented      72.468966\n",
       "3                Confident      72.460408\n",
       "1            Avid Listener      72.285714\n",
       "16                   Funny      72.272857\n",
       "22             Open-Minded      71.931600\n",
       "13                 Engaged      71.573333\n",
       "20                  Leader      71.189655\n",
       "24              Passionate      71.115385\n",
       "2        Community Focused      71.004043\n",
       "10                   Eager      70.855000\n",
       "30               Relatable      70.755000\n",
       "19               Inspiring      70.432857\n",
       "21            Multi-Tasker      69.187778\n",
       "5                 Creative      69.132118\n",
       "17                  Humble      67.811667\n",
       "28          Problem Solver      66.612308"
      ]
     },
     "execution_count": 689,
     "metadata": {},
     "output_type": "execute_result"
    }
   ],
   "source": [
    "self_described.sort_values(by='Rating Points',ascending = False).tail(20)"
   ]
  },
  {
   "cell_type": "markdown",
   "metadata": {},
   "source": [
    "Similarly, schools should avoid applicants described as 'Problem Solvers', or any other the other low ranked descriptions, according to our data and model.\n",
    "\n",
    "Again, it should be noted that the previous analysis of important features is not so clear cut. A random forest model searches for features that make useful splits. That is, a useful split is one that, when split upon, leads to relatively 'pure' resulting nodes. So using this metric of feature importance (generated from features that were often split upon) is useful, but perhaps not the ideal way to identify the single characteristics of applicants that most predict success. Instead, this model is likely better at, in sum, predicting applicant success. Trying to tease out individual features must be taken with an acknowledgement that these feature rankings are not iron clad rules."
   ]
  },
  {
   "cell_type": "code",
   "execution_count": null,
   "metadata": {
    "collapsed": true
   },
   "outputs": [],
   "source": []
  }
 ],
 "metadata": {
  "kernelspec": {
   "display_name": "Python 3",
   "language": "python",
   "name": "python3"
  },
  "language_info": {
   "codemirror_mode": {
    "name": "ipython",
    "version": 3
   },
   "file_extension": ".py",
   "mimetype": "text/x-python",
   "name": "python",
   "nbconvert_exporter": "python",
   "pygments_lexer": "ipython3",
   "version": "3.5.3"
  },
  "toc": {
   "colors": {
    "hover_highlight": "#DAA520",
    "navigate_num": "#000000",
    "navigate_text": "#333333",
    "running_highlight": "#FF0000",
    "selected_highlight": "#FFD700",
    "sidebar_border": "#EEEEEE",
    "wrapper_background": "#FFFFFF"
   },
   "moveMenuLeft": true,
   "nav_menu": {
    "height": "372px",
    "width": "252px"
   },
   "navigate_menu": true,
   "number_sections": true,
   "sideBar": true,
   "threshold": 4,
   "toc_cell": false,
   "toc_section_display": "block",
   "toc_window_display": false,
   "widenNotebook": false
  }
 },
 "nbformat": 4,
 "nbformat_minor": 2
}
